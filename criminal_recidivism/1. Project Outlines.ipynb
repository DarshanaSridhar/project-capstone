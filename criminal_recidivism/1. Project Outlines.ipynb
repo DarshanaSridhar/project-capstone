{
 "cells": [
  {
   "cell_type": "markdown",
   "metadata": {},
   "source": [
    "**Capstone Project: Part 1**"
   ]
  },
  {
   "cell_type": "markdown",
   "metadata": {},
   "source": [
    "In this section of my project, I will outline the main specific aim of my project, the proposed methods and models I intend to use and any risks or assumptions I am making. "
   ]
  },
  {
   "cell_type": "markdown",
   "metadata": {},
   "source": [
    "**Specific Aims**\n",
    "\n",
    "Recidivism is the act of a person repeating an undesirable behavior after they have either experienced negative consequences of that behavior, or have been trained to extinguish that behavior. It is also used to refer to the percentage of former prisoners who are rearrested for a similar offense.\n",
    "\n",
    "The Department of Corrections uses recidivism as an indicator on whether strategies are reducing offenders relapse into criminal behavior. A three year time frame is used as studies have shown if an offender relapses into criminal behavior it is most likely to happen within three years of being released.\n",
    "\n",
    "After 3 years of rehabilitation, can we predict whether an individual offender will go on to reoffend, break the terms of their parole, or never offend again? In this project, I aim to create an accurate, reliable classification model to predict the outcome of 3 years of rehabilitation on inmates from an Iowa correctional facility.\n",
    "\n"
   ]
  },
  {
   "cell_type": "markdown",
   "metadata": {},
   "source": [
    "**Proposed methods and models**\n",
    "\n",
    "This is a classification task. I aim to create a classifier (0, 1 and 2) representing offender reoffence, parole violation and never reoffend, in that order.\n",
    "\n",
    "The models I aim to use include\n",
    "- Logistic Regression\n",
    "- KNN Classifier\n",
    "- Decision Tree Classifier\n",
    "\n",
    "I will also explore ensembles such as \n",
    "- Bagging Classifier\n",
    "- Random Forest Classifier\n",
    "- AdaBoost Classifier\n",
    "- GradientBoost Classifier"
   ]
  },
  {
   "cell_type": "markdown",
   "metadata": {},
   "source": [
    "**Data Description**\n",
    "\n",
    "The dataset I have chosen to investigate comes from https://data.iowa.gov/Correctional-System/3-Year-Recidivism-for-Offenders-Released-from-Pris/mw8r-vqy4\n",
    "\n",
    "It outlines, for 26,020 inmates at a correctional facility in Iowa,  whether an offender is re-admitted to prison or not within three years from being released from prison in Iowa. It records. for each inmate, whether they went on to commit another offence (Recidivism Type 'New'), broke the terms of their violation (Recidivism Type 'Tech', standing for Technical Violation), or never returned to prison (Recidivism Type 'No Recidivism'). It also contains a lot of information on the background of each of these prisoners which could make for an interesting set of features, including their ethnicity, their initial offense classification and type, and the time it took for them to return to prison (in days).\n",
    "\n",
    "Another data set I found, from https://catalog.data.gov/dataset/recidivism-beginning-2008, outlines recidivism for 120,000 prisoners in a similar way- however, it only contains information about their location, sex and age, and will not make for as interesting modelling."
   ]
  },
  {
   "cell_type": "markdown",
   "metadata": {},
   "source": [
    "**Risks and Assumptions**\n",
    "\n",
    "There are a number of nulls in this dataset that I will have to make assumptions when dealing with.\n",
    "\n",
    "\n",
    "I also made a number of assumptions duing cleaning:\n",
    "\n",
    "1.  Age At Release - this column details the offender's age group at release from prison, but ages are given in the form of ranges (Under 25, 25-34 etc.). For the sake of modelling, this needs to be an integer or a float, not a range object - so  I will be taking the average for each age range, using that as an age indicator. IN the case of Under 25 and Over 55, I will be using 25 and 55 as an age marker respectively.\n",
    "\n",
    "\n",
    "2. Offense Classification - this column gives the offense classification assigned to each offender, in the form of maximum penalty. For the sake of modelling, I have ranked these according to the length of penalty - 1 being the lowest penalty (30 days) and 7 being the highest (a life sentence). This is of the form:\n",
    "    - 1 refers to Simple Misdemeanor = 30 days\n",
    "    - 2 refers to Serious Misdemeanor = 1 year\n",
    "    - 3 refers to Aggravated Misdemeanor = 2 years\n",
    "    - 4 refers to D Felony = 5 years\n",
    "    - 5 refers to C Felony = 10 years\n",
    "    - 6 refers to B Felony = 25 or 50 years\n",
    "    - 7 refers to A Felony = Life"
   ]
  },
  {
   "cell_type": "code",
   "execution_count": null,
   "metadata": {},
   "outputs": [],
   "source": []
  }
 ],
 "metadata": {
  "kernelspec": {
   "display_name": "Python 3",
   "language": "python",
   "name": "python3"
  },
  "language_info": {
   "codemirror_mode": {
    "name": "ipython",
    "version": 3
   },
   "file_extension": ".py",
   "mimetype": "text/x-python",
   "name": "python",
   "nbconvert_exporter": "python",
   "pygments_lexer": "ipython3",
   "version": "3.7.4"
  }
 },
 "nbformat": 4,
 "nbformat_minor": 4
}
