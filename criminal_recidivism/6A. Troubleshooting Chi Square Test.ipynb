{
 "cells": [,
  {
   "cell_type": "code",
   "execution_count": 2,
   "metadata": {},
   "outputs": [],
   "source": [
    "import pandas as pd\n",
    "import scipy.stats as stats"
   ]
  },
  {
   "cell_type": "code",
   "execution_count": 3,
   "metadata": {},
   "outputs": [],
   "source": [
    "df= pd.read_csv(\n",
    "    '/Users/darshanasridhar/Documents/Ga Capstone Datasets /Recidivism/no_dum_recidivism_clean.csv')"
   ]
  },
  {
   "cell_type": "code",
   "execution_count": 68,
   "metadata": {},
   "outputs": [
    {
     "data": {
      "text/plain": [
       "Index(['Year Released', 'Tracking End', 'District', 'Release Type',\n",
       "       'Average Release Age', 'Sex', 'Offense Classification', 'Offense Type',\n",
       "       'Offense Subtype', 'Return to Prison', 'Days to Return',\n",
       "       'Recidivism Type', 'Race', 'Ethnicity'],\n",
       "      dtype='object')"
      ]
     },
     "execution_count": 68,
     "metadata": {},
     "output_type": "execute_result"
    }
   ],
   "source": [
    "df.columns"
   ]
  },
  {
   "cell_type": "markdown",
   "metadata": {},
   "source": [
    "Initially assume there’s nothing significant in data - the null hypothesis is ALWAYS that there is no difference. Then prove that this isn’t the case using a t-test or a chi-squared test.\n"
   ]
  },
  {
   "cell_type": "code",
   "execution_count": 69,
   "metadata": {},
   "outputs": [
    {
     "data": {
      "text/plain": [
       "Index(['Year Released', 'Tracking End', 'District', 'Release Type',\n",
       "       'Average Release Age', 'Sex', 'Offense Classification', 'Offense Type',\n",
       "       'Offense Subtype', 'Return to Prison', 'Days to Return',\n",
       "       'Recidivism Type', 'Race', 'Ethnicity'],\n",
       "      dtype='object')"
      ]
     },
     "execution_count": 69,
     "metadata": {},
     "output_type": "execute_result"
    }
   ],
   "source": [
    "df.columns"
   ]
  },
  {
   "cell_type": "markdown",
   "metadata": {},
   "source": [
    "**1. Year Released**\n",
    "\n",
    "Null hypothesis - there are equal proportions for each class within this feature (if ratios are the same, there's the same likelihood of coming back to prison)"
   ]
  },
  {
   "cell_type": "code",
   "execution_count": 70,
   "metadata": {},
   "outputs": [],
   "source": [
    "df_yr = df.groupby(['Year Released'])['Recidivism Type'].value_counts(normalize=True)"
   ]
  },
  {
   "cell_type": "code",
   "execution_count": 71,
   "metadata": {},
   "outputs": [
    {
     "data": {
      "image/png": "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\n",
      "text/plain": [
       "<Figure size 432x288 with 1 Axes>"
      ]
     },
     "metadata": {
      "needs_background": "light"
     },
     "output_type": "display_data"
    }
   ],
   "source": [
    "df_yr.plot.bar();"
   ]
  },
  {
   "cell_type": "code",
   "execution_count": 72,
   "metadata": {},
   "outputs": [
    {
     "data": {
      "text/plain": [
       "(138.40300200947817,\n",
       " 8.95123449685278e-25,\n",
       " 10,\n",
       " array([[2476.09547603,  452.05596341,  787.84856056],\n",
       "        [2610.02851981,  476.50786025,  830.46361994],\n",
       "        [3156.42203175,  576.26186724, 1004.31610101],\n",
       "        [3123.10535419,  570.17930584,  993.71533997],\n",
       "        [3055.80566553,  557.89253181,  972.30180267],\n",
       "        [2914.54295268,  532.10247146,  927.35457585]]))"
      ]
     },
     "execution_count": 72,
     "metadata": {},
     "output_type": "execute_result"
    }
   ],
   "source": [
    "age_cross_tab = pd.crosstab(df['Year Released'], df['Recidivism Type'])\n",
    "stats.chi2_contingency(age_cross_tab)"
   ]
  },
  {
   "cell_type": "code",
   "execution_count": null,
   "metadata": {},
   "outputs": [],
   "source": []
  },
  {
   "cell_type": "markdown",
   "metadata": {},
   "source": [
    "**2. Tracking End**\n",
    "\n",
    "Null hypothesis - there are equal proportions for each class within this feature (if ratios are the same, there's the same likelihood of coming back to prison)"
   ]
  },
  {
   "cell_type": "code",
   "execution_count": 73,
   "metadata": {},
   "outputs": [],
   "source": [
    "df_te = df.groupby(['Tracking End'])['Recidivism Type'].value_counts(normalize=True)"
   ]
  },
  {
   "cell_type": "code",
   "execution_count": 74,
   "metadata": {},
   "outputs": [
    {
     "data": {
      "image/png": "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\n",
      "text/plain": [
       "<Figure size 432x288 with 1 Axes>"
      ]
     },
     "metadata": {
      "needs_background": "light"
     },
     "output_type": "display_data"
    }
   ],
   "source": [
    "df_te.plot.bar();"
   ]
  },
  {
   "cell_type": "code",
   "execution_count": 75,
   "metadata": {},
   "outputs": [
    {
     "data": {
      "text/plain": [
       "(138.40300200947817,\n",
       " 8.95123449685278e-25,\n",
       " 10,\n",
       " array([[2476.09547603,  452.05596341,  787.84856056],\n",
       "        [2610.02851981,  476.50786025,  830.46361994],\n",
       "        [3156.42203175,  576.26186724, 1004.31610101],\n",
       "        [3123.10535419,  570.17930584,  993.71533997],\n",
       "        [3055.80566553,  557.89253181,  972.30180267],\n",
       "        [2914.54295268,  532.10247146,  927.35457585]]))"
      ]
     },
     "execution_count": 75,
     "metadata": {},
     "output_type": "execute_result"
    }
   ],
   "source": [
    "age_cross_tab = pd.crosstab(df['Tracking End'], df['Recidivism Type'])\n",
    "stats.chi2_contingency(age_cross_tab)"
   ]
  },
  {
   "cell_type": "code",
   "execution_count": null,
   "metadata": {},
   "outputs": [],
   "source": []
  },
  {
   "cell_type": "markdown",
   "metadata": {},
   "source": [
    "**3. District**\n",
    "\n",
    "Null hypothesis - there are equal proportions for each class within this feature (if ratios are the same, there's the same likelihood of coming back to prison)"
   ]
  },
  {
   "cell_type": "code",
   "execution_count": 76,
   "metadata": {},
   "outputs": [],
   "source": [
    "df_dist = df.groupby(['District'])['Recidivism Type'].value_counts(normalize=True)"
   ]
  },
  {
   "cell_type": "code",
   "execution_count": 77,
   "metadata": {},
   "outputs": [
    {
     "data": {
      "image/png": "iVBORw0KGgoAAAANSUhEUgAAAXQAAAFxCAYAAABjrlPgAAAABHNCSVQICAgIfAhkiAAAAAlwSFlzAAALEgAACxIB0t1+/AAAADh0RVh0U29mdHdhcmUAbWF0cGxvdGxpYiB2ZXJzaW9uMy4xLjEsIGh0dHA6Ly9tYXRwbG90bGliLm9yZy8QZhcZAAAgAElEQVR4nO3de7gdZX328e9NQuSMQkKthBCkICAvBwmIRasc1HiktagoWBAQWwUVayu+Km21fQXPYhFFRVBQVFQMAgXlIFYQEg4GgiIhBIiogIKgoBzye/94ZsNkZdZes5OZPWs93J/rWlfWzNxrnmfPnvzW7DkqIjAzs9G3RtcdMDOzZrigm5llwgXdzCwTLuhmZplwQTczy4QLuplZJqZ21fD06dNj9uzZXTVvZjaSrrrqqrsjYkbVtM4K+uzZs1mwYEFXzZuZjSRJt/ab5l0uZmaZcEE3M8uEC7qZWSZc0M3MMuGCbmaWCRd0M7NMuKCbmWXCBd3MLBOdXVhkZvmZffQ5K41beuzLOujJE5MLupllwV8m3uViZpYNF3Qzs0y4oJuZZcIF3cwsEy7oZmaZcEE3M8uEC7qZWSZc0M3MMuGCbmaWCRd0M7NMuKCbmWXCBd3MLBMu6GZmmXBBNzPLhAu6mVkmXNDNzDJRq6BLmivpRkmLJR1dMX2WpIslXSNpoaSXNt9VMzMbz8CCLmkKcALwEmA74HWStuuJvQ/4RkTsDOwPfKbpjpqZ2fjqbKHvBiyOiCUR8RBwBrBvTyaADYr3GwJ3NNdFMzOro84zRTcFbi8NLwOe3ZP5d+ACSUcC6wL7NNI7MzOrrc4WuirGRc/w64BTImIm8FLgK5JWmrekwyUtkLTgrrvumnhvzcysrzoFfRmwWWl4JivvUjkU+AZARFwOrAVM751RRJwUEXMiYs6MGTNWrcdmZlapTkGfD2wlaQtJ00gHPef1ZG4D9gaQtC2poHsT3MxsEg3chx4Rj0g6AjgfmAKcHBGLJH0AWBAR84B/Bj4v6SjS7piDI6J3t4yZWXZmH33OSuOWHvuyDnpS76AoEXEucG7PuGNK728A9mi2a2ZmNhG+UtTMLBMu6GZmmXBBNzPLhAu6mVkmXNDNzDLhgm5mlgkXdDOzTLigm5llwgXdzCwTLuhmZplwQTczy4QLuplZJlzQzcwy4YJuZpYJF3Qzs0y4oJuZZcIF3cwsEy7oZmaZcEE3M8uEC7qZWSZc0M3MMuGCbmaWCRd0M7NMuKCbmWXCBd3MLBMu6GZmmXBBNzPLhAu6mVkmXNDNzDIxtesOmOVq9tHnrDRu6bEv66An9kThLXQzs0y4oJuZZcIF3cwsEy7oZmaZcEE3M8uEC7qZWSZc0M3MMlGroEuaK+lGSYslHd0n8xpJN0haJOmrzXbTzMwGGXhhkaQpwAnAC4FlwHxJ8yLihlJmK+A9wB4RcY+kTdrqsNlEPREv8Hki/sxWbwt9N2BxRCyJiIeAM4B9ezJvAk6IiHsAIuLOZrtpZmaD1CnomwK3l4aXFePKtga2lvRjST+RNLepDpqZWT117uWiinFRMZ+tgBcAM4EfSdo+Iu5dYUbS4cDhALNmzZpwZ83MrL86W+jLgM1KwzOBOyoy342IhyPiFuBGUoFfQUScFBFzImLOjBkzVrXPZmZWoc4W+nxgK0lbAL8E9gde35M5C3gdcIqk6aRdMEvqdsIHcMzMVt/Agh4Rj0g6AjgfmAKcHBGLJH0AWBAR84ppL5J0A/Ao8C8R8ds2O94Ef5GYWU5q3Q89Is4Fzu0Zd0zpfQDvLF5mZtYBP+CiA1V/GYD/OjCz1eNL/83MMuGCbmaWCRd0M7NMuKCbmWXCBd3MLBM+y8Umhc/5N2uft9DNzDLhLfQnGG8pm+XLW+hmZplwQTczy4QLuplZJlzQzcwy4YJuZpYJF3Qzs0y4oJuZZcIF3cwsEy7oZmaZcEE3M8uEC7qZWSZc0M3MMuGCbmaWCRd0M7NMuKCbmWXCBd3MLBMu6GZmmXBBNzPLhAu6mVkmXNDNzDLhgm5mlgkXdDOzTLigm5llwgXdzCwTLuhmZplwQTczy4QLuplZJlzQzcwy4YJuZpaJWgVd0lxJN0paLOnocXL7SQpJc5rropmZ1TGwoEuaApwAvATYDnidpO0qcusDbwOuaLqTZmY2WJ0t9N2AxRGxJCIeAs4A9q3IfRD4MPCnBvtnZmY11SnomwK3l4aXFeMeI2lnYLOI+F6DfTMzswmoU9BVMS4emyitAXwC+OeBM5IOl7RA0oK77rqrfi/NzGygOgV9GbBZaXgmcEdpeH1ge+ASSUuB3YF5VQdGI+KkiJgTEXNmzJix6r02M7OV1Cno84GtJG0haRqwPzBvbGJE/D4ipkfE7IiYDfwEeGVELGilx2ZmVmlgQY+IR4AjgPOBnwHfiIhFkj4g6ZVtd9DMzOqZWicUEecC5/aMO6ZP9gWr3y0zM5soXylqZpYJF3Qzs0y4oJuZZcIF3cwsEy7oZmaZcEE3M8uEC7qZWSZc0M3MMuGCbmaWCRd0M7NMuKCbmWXCBd3MLBMu6GZmmXBBNzPLhAu6mVkmXNDNzDJR6wEX9sQz++hzVhq39NiXddATM6vLW+hmZplwQTczy4QLuplZJkZqH7r365qZ9ectdDOzTLigm5llwgXdzCwTLuhmZplwQTczy4QLuplZJkbqtMWu+HTJyeXlbbZqXNCHnIubmdXlXS5mZplwQTczy4QLuplZJlzQzcwy4YJuZpYJF3Qzs0z4tEWzgk8RtVHnLXQzs0zUKuiS5kq6UdJiSUdXTH+npBskLZR0oaTNm++qmZmNZ+AuF0lTgBOAFwLLgPmS5kXEDaXYNcCciHhA0j8BHwZe20aHzaw53s2Ulzpb6LsBiyNiSUQ8BJwB7FsORMTFEfFAMfgTYGaz3TQzs0HqFPRNgdtLw8uKcf0cCpy3Op0yM7OJq3OWiyrGRWVQOhCYAzy/z/TDgcMBZs2aVbOLZmZWR50t9GXAZqXhmcAdvSFJ+wDvBV4ZEX+umlFEnBQRcyJizowZM1alv2Zm1kedLfT5wFaStgB+CewPvL4ckLQz8DlgbkTc2XgvzTLmA5PWlIEFPSIekXQEcD4wBTg5IhZJ+gCwICLmAR8B1gO+KQngtoh4ZYv9NnMhtJEyGetrrStFI+Jc4NyecceU3u/TaK/MzGzCfKWomVkmXNDNzDLhm3OZ2UA+XjEavIVuZpYJb6FnwltQk6fLZe3fs43HW+hmZpnwFnqDvPVkZl1yQbfV4i8xs+HhXS5mZplwQTczy4QLuplZJlzQzcwy4YJuZpaJLM9y8ZkXZvZE5C10M7NMuKCbmWXCBd3MLBMu6GZmmXBBNzPLhAu6mVkmXNDNzDLhgm5mlgkXdDOzTGR5paiZWT85X0nugm5mky7notol73IxM8uEC7qZWSZc0M3MMuGCbmaWCRd0M7NMuKCbmWXCBd3MLBMu6GZmmfCFRWY2tHwB0sS4oJuZVRjFLxMXdDOzIbI6XyTeh25mlgkXdDOzTNQq6JLmSrpR0mJJR1dMf5KkrxfTr5A0u+mOmpnZ+AYWdElTgBOAlwDbAa+TtF1P7FDgnoj4K+ATwHFNd9TMzMZXZwt9N2BxRCyJiIeAM4B9ezL7AqcW788E9pak5rppZmaDKCLGD0j7AXMj4rBi+A3AsyPiiFLm+iKzrBi+ucjc3TOvw4HDi8FnADf2NDcduJvBms512faw57pse9hzXbY97Lku2879Z948ImZUpiNi3BfwauALpeE3AJ/uySwCZpaGbwY2HjTvirYWdJHrsu1hz41CH71shi83Cn3M6Wcee9XZ5bIM2Kw0PBO4o19G0lRgQ+B3NeZtZmYNqVPQ5wNbSdpC0jRgf2BeT2YecFDxfj/goii+XszMbHIMvFI0Ih6RdARwPjAFODkiFkn6AOnPgXnAF4GvSFpM2jLffxX7c1JHuS7bHvZcl20Pe67Ltoc912XbT8SfGahxUNTMzEaDrxQ1M8uEC7qZWSZc0M3MMtHp7XMlbQLsATwNeBC4nnSgdXlPbg7wvJ7cDyLid6uS67JtSWsAO5ZyiyLiN6vRv7q5Wu221HZXy7rRdrtse9jXr45/5i7ryMCspLWAl1fkzomIRRPNjaeTg6KS9gSOBjYCrgHuBNYCtga2JN0+4GPAq4C3AbcAV/Xk9iD9sO8H9qqTi4jbumobWBN4N7APcBNwVyn3APA50u0Tnl+zf7vUzM2o025ELJ/Asqnbdt1c08t6yybbLdabg7toewI/cyfrV0Tc1+H/qU6W9QTXh0OAVwCXVOT2LN7/c9HHgbmIWMg4uiroHyFdbXpbxbSppG+pKcBTSadJPthnPjsBGwPb1MlFxIVdtQ0cBpwI/Kj3HP1iC+P1wD3A9jX7t3vN3H512o2IUyewbOq2XTfX9LKe22S7xXrz1i7ansDP3Mn6FRHf6vD/VCfLeoLrw1oRsfITKx7PbQLMAv6iTi4iFvTLgE9bNDPLRmcHRSW9WNKJkuZJ+m7xfm6f3KG991iXdEjNdo4ZlrYlbSPp3ZKOl/Sp4v22deZVfP6NFfPbW9J6PePnVuRWud3VbLurZV2r3brzm0gfh339qvu7G6fdN1aMa3R5N72sW2h3qqQ3S/ofSQsl/VTSeZL+UdKapdyUIvdBSXv0zON9NftY/+Kiidz4pakX8EngXNIVpc8tXvsX4z5Vyn0IuLTI3wwcWZp2dc22bhuGtkn7N68l7fM7sHgdPTZuFeb3NtLdKs8ClgL7VvWviXZXo+2ulnWtdie43tTq47CvX3V/d238n5rAz9Losm663WL4a6RdXLuT7m81s3h/IvD1Uu4LwFeBd5D2jX+8z8+yUZ/XxsCy2v9P6wabfAG/6DNewE2l4euAqcX7Jxe/qE8Uw9eUcvf1ed0PPDIMbQO/ANasaHdaT7sL+7yuA/7c07/1ivezgQXA2yv6V6vdttrualnXbHci603dPg77+lX3d1drXWhjebewrBtttxi+sart3n4BC0vvp5Iu5f828KSen+VRYAnpIOvYa2z4oX5t9b66Om3xT5J2i4gre8bvCvypNDw1Ih4BiIh7Jb0COEnSN0kr6ph7gV2j+vSs24ek7eWkU5Fu7Yn9ZTFtzF8ALyYdwFphdsBlpeEpEfGHon9LJb0AOFPS5kV2ou220XZXy7puuxNZb+r2cdjXr7q/u7rrwkR+5ro/S9PLuul2Ae6R9GrgW1GcHql0yuirWXGZPfa5Yt6HF7t5LgLKu7yWAHtH9QHe3nWxv7qVv8kX8CzgCuAG4ILi9bNi3C6l3PeA51d8/j+B5T3Du/Vp67hhaJt0RH4xcB7pW/ok4H+KcXNLuS8Cz+0zv6+W3l8E7NQzfSrwZeDRibbbUttdLeu67U5kvanbx2Ffv+r+7mqtC20s7xaWdaPtFuNmA18nnR76i+J1ZzFui1LuNHr+nxXjDwMeLg2/FdixTx+PrBpf9er0LBdJTwU2JX3rL4uIX/dMXxsgKk4NkrRpRPxylNouvsF3K7cLzI+IR1dhXjNJfy7+umLaHhHx4zbanWjbxbhOfs+D2p3gvCbUx2Fdvyb6u5tg+40s76aXdVvtlqZtTDpjsO5TjVrj0xbNzDLhe7mYmWXCBd3MLBMu6GZmDZH0l5KeNNm5MUNV0CX9rHgdMZm5LtuW9IPiCrOXD2Oupba7WtY5rTdDvX5NsI9Z5ApfAX4u6aOTnAM6vn1ur4jYtjhivPtk5jpu+x9I5woPa67xeXa1rHNab0Zg/Rr6ZdPS+rCPJAHbTWZuTNenLT4Z2KoY/EVE/H4yckPQ9gyAiLirX6bLXNPz7GpZ57TeDPP6JemvSHcL7D1d9XnAHRFxcxu50vjjIuLdkz2uNG0K6UKsxzaQo/oCoUZzleqesN7ki3T11CmkK7iuId1v4h7gZGBaW7ku2yadI/vvwN3Ab4vMXcAxPf3rJNdS210t65zWm6Fev+LxC3J2qBg/Bzi7rVxp/Er3oKF0yX1buWL8kcUyWkS6dcB1febZaK5vba0bbPIFfAA4HVi/NG590tVqH2wr12XbwFHA91nxKrKnA+cDR3Wda6ntrpZ1TuvNUK9fxfjrx/m/fl2LuX8iFbwHWPF+M7cAp7eV6+nPYtI90gfVvEZzfT+/qh9cnRfpaR7rVIxfr/zLbDrXZdukravpFbkZrHiTnk5yLbXd1bLOab0Z6vWrGLe4N1c1rYXchqRL8L8GbF56bdTzmUZzPZ+5mOKGXuO9ms71e3V1UHR5RDzQOzIi/iApWsx12faaUXFpcETcpdL9kzvMtTHPrpZ1TuvNsK9fAPMlvSkiPl8eKelQ0i1jW8lFOo7we0mfAn4XEfcXufUlPTsirmgj12MJcImkc4A/l/r28ZZzlboq6CHpKbDC3d3GLG8x12XbD1VMr5rWVa6NeXa1rHNab4Z9/YJ0r+/vSDqAxwvuHNL+/79rMTfmRNKNusb8sWJcGzmA24rXNFa+I2ObuUpdPVN0KWllrFpJIyKe3kauy7YlPUpaMXqJ9NzBNbvMtdT2UrpZ1o3mRqGPXa43j01ID4vevhhcFBEXVXy+jdy1EbFTz7iFEbFDm7me6etGRNXyajW30ue6KOhmlg9J65BuBftwMfwM4KXA0oj4Tlu5Uv7bwCWkrWiAtwB7RsTftpkrss8h3Wp4vYiYJWlH4M0R8ZY2c/10tYVe9afLmD+THgt1f9O5LtuWtNF4ubFv465yLbXd1bLOab0Z6vWryF4KHBoRNymdQ34l6cyc7YArI+I9beRK7W8CHA/sBQRwIfCOiLizzVyRvQLYD5gXETsX466PiO3bzPXT1T70j40zbSowS9IJwEuazEXEh7tqm3RKVFD9p/NUSZCeAfmfXeQi4nTS/som2z6sYvpjOdpb1jmtN0O9fhXrzVMi4qZi2kHA1yLiSEnTSOvUWAFuOgdAUWj3r+gnbeZK+duL5TGm8jkDTeeqdFLQI2LP8aYr3YzmmogY93LXieaAD3fVdkRsMSA3A/hhVznSebZNt930MuwkR7frzVCvX6Qt5/Kf+XsBHwGIiIckrXCAt+HcWF/WAg4Fngms9dhMIg5pM1e4XdJfkw5eTyM9hPtnk5CrFqt4vmNbL+CFxb+7tJUDNgC2rMjuUM62kHsq8NTi/QzgVcB2pfwr2shV9Ov/9QxX5iaSrZMDtij6uE1p3Eq/v9XNAbNIB+4gbWG+Efg0aSt26kRzxb915/lK4EkD1snGc8W/fwM8o3j/XOBdwEsr1pumc6cBHyVdjPQbivPmSQ9a/mkp32iulP8m8EHgZtIW/QXAp9rOFdnppC+135AeQXcaFRcGNZ3ruy7UDU7Wi7RPsLUc8BrgDtIl1ItID48dm3Z1i7k3k644W0oqAleQLt++kbS/sK3c8T2vT5MuIz8eOL5n2dTKTiB3Vun9vkV/v0R6/uLBLeYeuxgHOA44EziwWD4nTzQ3wXk+SLp0+yukA3lT+qyXTec+SXp485WkYnQZ8H7gB8BH28oV2bVJu2k+Rem5mMBfA29oK1caf03x78Li3zWBi9rOFdNm1KxDjeb6fn51PrzKjcK8Pq+zgT+2lSuy1wJ/WbzfDfg58KryL7Kl3HXAOsDGwB94fMv6KcC1LeaWkb7l/4G0tXEQ6Z4cBwEH9SybWtkJ5Mo//2UUl5GTtkJ+2mLuhtL7q4A1SsMTzk1wntcUv4M3kQ6m/Qb4LD0PH24ht4j0l8M6pPuujH35rMmKV5Q2mhuGF+lAKcClpNMcpwNL2s4VmZtIW/CHAk8ep4+N5vq9ujoo+jzS1s0fesaLVBTbykHawvkVQERcqXSu6/eUHp4bLeYejnTF3wOSbo7iQbYRcY9WvOKv6dy2pC2sucC/RMQvJf1bRJzKyupm6+bK/ZgaEbcUfbx7nH2mTeRul7RXpPOWlwKbAbcq3QKVVchNJBsRcQ/weeDzSg8wfg1wrKSZEbFZi7koLYexZbWcFZ970HQOSdex4u+md4Hs0Eau5CSli6/eT9qQW69436vpHBGxlaTdSAdR3yvpBuCMiDitzVxfk/1tWnwLnUc6r7Nq2qVt5Yrhy+jZ30262dGFpNOx2sotIF1ODTCzNH4tVtzCazRXGr8L6T4R7yKdzzve76dWdlCOdHT+PuB+0tWFY39FTKN0B7kWcpsV/bqU9FfaPcBFpK3dvSeam+A8rxlneW3eYu444EfAfNJBxLOB95K29j7bVm6sH+O92soN24u0Jf9l4NHJzK3wma4XQgcLfUdgq4rxawIHtJibRcVNd4BNgX3ayvVME/BW4LQay6lWdiLzLH3mycBz2s6R/pLYF/h74NmUdpOsSq5OFnhBzWXQaK7IPgfYvXi/JemL9jUVfWw6p5rrU6O50vuNScdxribtDvsk1QccG80V2Q1IuxrPIx3LOY7qA/iN5vq9urqwSDGgYRUnYjaZi4joqu1hz3nZ9M952fTPFcvmEuBbwHej9CCG4rS755IK1MXAwU3mIuKUYvz3SX85je2WOID0RbhPT38bzRXZW4CzgG9ExOXjLKtGc33VrfxNvkiX1R4JzOoZP4103umppF9qo7ku2x72nJeNl81qLJu1SJfH/5h0xtcNpLsG3kra979TG7lSn66qqDELKsY1mivGD/xroo1c38+vzodXudEOV4Cu2h6y3C0TWDYrZVczN+zLJqf1punfXeV60/N/e03SM0fHPUOjyRzpnPX9SQdr1yDtFvqPNnPAJ4t/z6biDLu2coNend+cS+neytOBByPi3snKddn2sOdGoY9eNsOX64qk+4F1efx2wmvw+J0iIyI2aDonaZeIuErS86v6FBE/LObVaG6Qzgu6mZk1o6vz0M3MGiNpB9Lj4x6raRHx7bZykvYlnS58QjF8Ben2GwD/GhFntpEbxAXdzEaapJOBHUhXt5YvhPp2i7l/ZcU7Mj4J2JW0q+ZLpFtDtJEblwu6mY263WPAXSlbyE2LiNtLw/8bEb8Ffitp3RZz41pjcMTMbKhdLqlOoW4y95TyQEQcURqc0WJuXC7oZjbqTiUV4RslLZR0naSFLeeukPSm3g9KejPpDpVt5cbls1zMbKRJWgy8k3QH0sdu0hYRt7aVU3pM3VmkxwBeXYzehbTv+28j4jdt5AYuCxd0Mxtlki6KiL0mO1dk9yI92QhgUaS7cbae69sfF3QzG2WSPkO6QdvZpC1cYOXTEZvODSOf5WJmo25tUuF9UWncSqcjtpAbOt5CNzPLhM9yMbORJmmmpO9IulPSbyR9S+mJYa3mSvnNJe1TvF9b0vqTkavigm5mo+5LpLsSPo30gJezi3Ft5yhONTwT+FwxaibpbJVWc/24oJvZqJsREV+KiEeK1ylUX4zTdA7S07r2ID0akYi4CdhkEnKVXNDNbNTdLelASVOK14HAbychB+m5wQ+NDUiaSvUDrpvOVXJBN7NRdwjpIRS/Bn4F7FeMazsH8ENJ/xdYW9ILgW+SdtG0navks1zMzFaRpDWAQ0mnOAo4H/hC9BTWpnN9++OCbmajSNKHgSUR8dme8UcBT42Id7eRG2Yu6GY2kiTdAGwfEct7xq8BLIyI7dvI9UzbA/h3YHPShZoiPabu6W3m+vGVomY2qqK3+BYjl0tSi7myLwJHAVcBj47T16ZzlVzQzWxUPSBpq+LUvsdI2gp4sMVc2e8j4rwafW06V8kF3cxG1THAeZL+k7RFCzAHeA/wjhZzZRdL+gjpPi/lG3ld3XKukvehm9nIkrQ98C/A2P7t64GPRsR1beZK+YsrRkfv7XebzvXjgm5mlglfWGRmtookbSjp45IWFK+PSdqw7Vw/LuhmZqvuZOB+0pWlryHdg6XqRl5N5yp5l4uZ2SqSdG1E7DTZ4/rxFrqZjTRJW0u6UNL1xfAOkt7Xdq7woKTnlj67B9WnODadq+QtdDMbaZJ+SDoz5XMRsXMx7vreKzubzhXjdwJOBTYkXdX5O+DgiPhpm7l+fB66mY26dSLiyp6LOR+ZhBwRcS2wo6QNiuH7JiPXjwu6mY26uyVtSXHfcEn7kW5721pO0j9UdWTsSyAivtxGbhDvcjGzkSbp6cBJwF8D9wC3AAdExK1t5SR9uqorwCuATSNiahu5QVzQzWykSdoiIm6RtC6wRkTcPzauzVwpL+AA4N3ADcB/RcTCtnNVfJaLmY26bwFExB8j4v5i3Jlt5yRNlXQYqejuA+wXEa/tLb5N58bjfehmNpIkbQM8E9hQ0qtKkzYA1morV2TfCrwduBCY27vbpq3cIN7lYmYjSdK+wN8CrwTmlSbdD5wREZe1kSuyy4E7gbtY8SHOYw+k2KGN3MBl4oJuZqNM0nMi4vLJzEnafLzpY1vYTecGcUE3s5EmaS3Sg5WfSWnXSEQc0lZOkmJA8SwObtJkblDGB0XNbNR9BXgq8GLgh8BM0m6SNnMXSzpS0qzySEnTJO0l6VTgoBZy4/IWupmNNEnXRMTOkhZGxA6S1gTOr3h4RGO5Yiv+ENLphVsA95K25qcAFwAnRMS1TecGLQuf5WJmo+7h4t97lZ449Gtgdpu5iPgT8BngM0XBnw48GBH3tpkbxAXdzEbdSZKeAryPdHbKesD7JyEHQEQ8TPUtBFrNVfEuFzMbaeNd7dnmuGHkg6JmNuq+VTGu7xWgDeaGjne5mNlI6vJK0WHlgm5mo+oZwMuBJ5PuSjjmfuBNLeaGlvehm9lI6+JK0WHlfehmNur+TtIGktZUehbo3ZIOnITc0HFBN7NR96LiUW0vB5YBW5OeCdp2bui4oJvZqFuz+PelwNci4neTlBs6PihqZqNunqSfAw8Cb5E0A/jTJOSGjg+KmtnIkrQGsDvwM+C+iHi0eHTc+hHx67Zyw8oF3cxGmqTLI+I5k50bRt6Hbmaj7gJJfz92X/FJzA0db6Gb2UiTdD+wLvAoab/32GPbNmgzN4xc0M3MMuFdLmY20pQcKOn9xfBmknZrOzeMvIVuZiNN0onAcmCviNi2uJf5BRGxa5u5YeTz0M1s1D07Ip4l6RqAiLhH0rRJyA0d73Ixs1H3sKQpQAAUFwItn4Tc0HFBN7NRdzzwHWATSf8F/C/woUnIDR3vQzezkVc8nBdCktEAAAYUSURBVGJv0imGF0bEzyYjN2xc0M1spEn6SkS8YbLHDSPvcjGzUffM8kCx/3uXScgNHRd0MxtJkt5TXNW5g6T7JN1fDN8JfLet3DDzLhczG2mSPhQR75ns3DByQTezkSdpU2BzStfWRMSlbeeGjS8sMrORJulYYH/gBtINtSCdQ35pm7lh5C10Mxtpkm4EdoiIP09mbhj5oKiZjbolPP4c0MnMDR3vcjGzUfcAcK2kC4HHtqoj4m0t54aOC7qZjbp5xWuyc0PH+9DNzDLhLXQzG0mSrqO4I2KViNihjdww8xa6mY0kSZuPNz0ibm0jN8xc0M1sJElSDChgkgTpCc9N5QZluuTTFs1sVF0s6UhJs8ojJU2TtJekU4GDWsgNLW+hm9lIkrQWcAhwALAFcC+wFjAFuAA4ISKubTo3eT/hxLmgm9nIk7QmMB14MCLunazcsHFBNzPLhPehm5llwgXdzCwTLuhWi6RHJV0raZGkn0p6p6Q1imlzJB0/zmdnS3r9ONOfJunMAe2/Q9I6faZdIunGol/zJe1U9+fqmU/fn0PSUknTi/eXrep8VrFfbyyW/bWSHpJ0XfH+2KbasDx4H7rVIukPEbFe8X4T4KvAjyPi32p89gXAuyLi5RXTpkbEIzXmsRSYExF3V0y7pJj/AklvBF4fES8cNM+JGK/9yTQs/bDh5C10m7CIuBM4HDhCyQskfQ9A0vNLW5PXSFofOBZ4XjHuKEkHS/qmpLOBC4ot+OuLz0+R9NFiK3RhcV7w24Cnkc4TvnhA9y4HNh0bkPQiSZdLurpoc+xLaVdJlxVb9VdKWr/n59hY0gXFz/A5QKV5/qH49+uSXloaf4qkvx+0PIrpP5T0DUm/kHSspAOKflwnacs6v4diWS2WtFFpeImkjSSdJulEST8q2nhJkZkq6eNFWwslHVanLRsNLui2SiJiCWn92aRn0ruAt0bETsDzgAeBo4EfRcROEfGJIvcc4KCI2Kvn84eTzgHeubh3xukRcTxwB7BnROw5oGtzgbMAil0k7wP2iYhnAQuAd0qaBnwdeHtE7AjsU/Sz7N+A/42InUl33pvFys4AXlu0NQ3YGzi3xvIA2BF4O/B/gDcAW0fEbsAXgCMH/IwARMSjwNeAsd1ZLwbmR8TviuHNgOcDrwBOkvQk0vK9s2hrV+Ct6rmQxkaXb85lq0MV434MfFzS6cC3I2KZVBXj+6XCU7YP8Nmx3TB9MlVOl7Qu6SKQZxXjdge2A35c9GEaaQv+GcCvImJ+0cZ9AD39/BvgVcX0cyTdU9HmecDxRaGcC1waEQ/2zKff8pgfEb8q2r2ZdOEKwHXAoC+tsi8C3wT+m3RRzBdK074REcuBGyXdDmwFvAjYVtL+RWbDYvxtE2jThpS30G2VSHo66XmLd5bHR8SxwGHA2sBPJG3TZxZ/7Ddrxrnj3TjGru77KnBCaV7fL/4y2CkitouIQyfQxriZiPgTcAlpy/i1pC323ky/5VF+vNny0vByJrChFRFLgXsk7QnszONfDFX9D9LP/pbSMtkiIi6s254NNxd0mzBJM4DPAv/de6MiSVtGxHURcRxpF8c2wP3A+jVnfwHwj5KmFvPbqBi/wjwkfVnSbuUPRsTDpF0su0vaFvgJsIekvyo+s46krYGfA0+TtGsxfv2x9kouJX1JUOx/fkqf/p4BvJG0O+X83ol9lkfTvgicDpxRbJGPeXVxjGNr0u6Xm4o+vqW0fJ8hae0W+mQdcEG3utYuDuwtAn5AKrz/UZF7h6TrJf2UtL/4PGAh8EhxAPKoAe18gfTn/8JiHmP7h08CzisdFN0B+FXvhyPiQeBjpLNe7gIOBr4maSGpwG8TEQ+Rtqg/XbTxfdI9O8r+A/gbSVeTdlP02yVxAWn3zA+K+faqWh5N+w5p18kpPeMXk76YzgYOL/r3OVJhv7Y4EH0i3vWaDZ+2aCNH0gbAFyPi1V33ZRhI2h34UPmAsaTTgDMj4qzuemaTzd/MNnKKg5gu5oCk95LOXNl/UNby5y10M7NMeB+6mVkmXNDNzDLhgm5mlgkXdDOzTLigm5llwgXdzCwT/x8mLepppsMmUgAAAABJRU5ErkJggg==\n",
      "text/plain": [
       "<Figure size 432x288 with 1 Axes>"
      ]
     },
     "metadata": {
      "needs_background": "light"
     },
     "output_type": "display_data"
    }
   ],
   "source": [
    "df_dist.plot.bar();"
   ]
  },
  {
   "cell_type": "code",
   "execution_count": 78,
   "metadata": {},
   "outputs": [
    {
     "data": {
      "text/plain": [
       "(2187.3517053855003,\n",
       " 0.0,\n",
       " 20,\n",
       " array([[1857.07160703,  339.04197256,  590.88642042],\n",
       "        [1324.67109967,  241.84264135,  421.48625898],\n",
       "        [ 791.60425875,  144.52165892,  251.87408233],\n",
       "        [ 444.44447861,   81.1413691 ,  141.41415229],\n",
       "        [3319.67375178,  606.06641811, 1056.25983011],\n",
       "        [ 731.63423915,  133.57304839,  232.79271246],\n",
       "        [1008.82899643,  184.17995926,  320.99104432],\n",
       "        [1036.81500557,  189.28931084,  329.89568359],\n",
       "        [ 233.2167429 ,   42.57792982,   74.20532729],\n",
       "        [ 205.8970673 ,   37.59022947,   65.51270323],\n",
       "        [6382.14275282, 1165.1754622 , 2030.68178499]]))"
      ]
     },
     "execution_count": 78,
     "metadata": {},
     "output_type": "execute_result"
    }
   ],
   "source": [
    "dist_cross_tab = pd.crosstab(df['District'], df['Recidivism Type'])\n",
    "stats.chi2_contingency(dist_cross_tab)"
   ]
  },
  {
   "cell_type": "markdown",
   "metadata": {},
   "source": [
    "**4. Release Type**\n",
    "\n",
    "Null hypothesis - there are equal proportions for each class within this feature (if ratios are the same, there's the same likelihood of coming back to prison)"
   ]
  },
  {
   "cell_type": "code",
   "execution_count": 79,
   "metadata": {},
   "outputs": [],
   "source": [
    "df_rt = df.groupby(['Release Type'])['Recidivism Type'].value_counts(normalize=True)"
   ]
  },
  {
   "cell_type": "code",
   "execution_count": 80,
   "metadata": {},
   "outputs": [
    {
     "data": {
      "image/png": "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\n",
      "text/plain": [
       "<Figure size 432x288 with 1 Axes>"
      ]
     },
     "metadata": {
      "needs_background": "light"
     },
     "output_type": "display_data"
    }
   ],
   "source": [
    "df_rt.plot.bar();"
   ]
  },
  {
   "cell_type": "code",
   "execution_count": 81,
   "metadata": {},
   "outputs": [
    {
     "data": {
      "text/plain": [
       "(1631.2795571746694,\n",
       " 0.0,\n",
       " 6,\n",
       " array([[ 5134.10001153,   937.32271207,  1633.5772764 ],\n",
       "        [ 1174.07971711,   214.34946381,   373.57081908],\n",
       "        [10529.40277511,  1922.33270554,  3350.26451935],\n",
       "        [  498.41749625,    90.99511858,   158.58738517]]))"
      ]
     },
     "execution_count": 81,
     "metadata": {},
     "output_type": "execute_result"
    }
   ],
   "source": [
    "rt_cross_tab = pd.crosstab(df['Release Type'], df['Recidivism Type'])\n",
    "stats.chi2_contingency(rt_cross_tab)"
   ]
  },
  {
   "cell_type": "markdown",
   "metadata": {},
   "source": [
    "P value of exactly 0 rejects null hypothesis - this means that there IS a relationship between Release Type and Rec Type and therefore ethnicity can be used as a predictor for Rec Type"
   ]
  },
  {
   "cell_type": "markdown",
   "metadata": {},
   "source": [
    "**5. Average Release Age**\n",
    "\n",
    "\n",
    "Null hypothesis - there are equal proportions for each class within this feature (if ratios are the same, there's the same likelihood of coming back to prison)"
   ]
  },
  {
   "cell_type": "code",
   "execution_count": 82,
   "metadata": {},
   "outputs": [],
   "source": [
    "df_age = df.groupby(['Average Release Age'])['Recidivism Type'].value_counts(normalize=True)"
   ]
  },
  {
   "cell_type": "code",
   "execution_count": 83,
   "metadata": {},
   "outputs": [
    {
     "data": {
      "image/png": "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\n",
      "text/plain": [
       "<Figure size 432x288 with 1 Axes>"
      ]
     },
     "metadata": {
      "needs_background": "light"
     },
     "output_type": "display_data"
    }
   ],
   "source": [
    "df_age.plot.bar();"
   ]
  },
  {
   "cell_type": "code",
   "execution_count": 84,
   "metadata": {},
   "outputs": [
    {
     "data": {
      "text/plain": [
       "(232.70773512240464,\n",
       " 7.91759844257177e-46,\n",
       " 8,\n",
       " array([[3058.47099973,  558.37913672,  973.14986355],\n",
       "        [6366.15074759, 1162.25583272, 2025.59341969],\n",
       "        [4146.59368874,  757.03559211, 1319.37071915],\n",
       "        [2896.5519468 ,  528.8178883 ,  921.63016489],\n",
       "        [ 868.23261713,  158.51155014,  276.25583272]]))"
      ]
     },
     "execution_count": 84,
     "metadata": {},
     "output_type": "execute_result"
    }
   ],
   "source": [
    "age_cross_tab = pd.crosstab(df['Average Release Age'], df['Recidivism Type'])\n",
    "stats.chi2_contingency(age_cross_tab)"
   ]
  },
  {
   "cell_type": "markdown",
   "metadata": {},
   "source": [
    "The very low p-value (7.92e-46) rejects null hyp - this means that there IS a relationship between age and Rec Type and therefore ethnicity can be used as a predictor for Rec Type"
   ]
  },
  {
   "cell_type": "markdown",
   "metadata": {},
   "source": [
    "**6. Sex**\n",
    "\n",
    "Null hypothesis - there are equal proportions for each class within this feature\n",
    "(if ratios are the same, there's the same likelihood of coming back to prison)"
   ]
  },
  {
   "cell_type": "code",
   "execution_count": 85,
   "metadata": {},
   "outputs": [],
   "source": [
    "df_sex = df.groupby(['Sex'])['Recidivism Type'].value_counts(normalize=True)"
   ]
  },
  {
   "cell_type": "code",
   "execution_count": 86,
   "metadata": {},
   "outputs": [
    {
     "data": {
      "image/png": "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\n",
      "text/plain": [
       "<Figure size 432x288 with 1 Axes>"
      ]
     },
     "metadata": {
      "needs_background": "light"
     },
     "output_type": "display_data"
    }
   ],
   "source": [
    "df_sex.plot.bar();"
   ]
  },
  {
   "cell_type": "code",
   "execution_count": 87,
   "metadata": {},
   "outputs": [
    {
     "data": {
      "text/plain": [
       "(70.69938652157835,\n",
       " 4.444503779675358e-16,\n",
       " 2,\n",
       " array([[ 2224.88772726,   406.19345044,   707.91882231],\n",
       "        [15111.11227274,  2758.80654956,  4808.08117769]]))"
      ]
     },
     "execution_count": 87,
     "metadata": {},
     "output_type": "execute_result"
    }
   ],
   "source": [
    "sex_cross_tab = pd.crosstab(df.Sex, df['Recidivism Type'])\n",
    "stats.chi2_contingency(sex_cross_tab)"
   ]
  },
  {
   "cell_type": "markdown",
   "metadata": {},
   "source": [
    "The very low p-value (4.44e-16) rejects null hyp - this means that there IS a relationship between sex and Rec Type and therefore Sex can be used as a predictor for Rec Type"
   ]
  },
  {
   "cell_type": "markdown",
   "metadata": {},
   "source": [
    "**7. Offense Classification**\n",
    "\n",
    "Null hypothesis - there are equal proportions for each class within this feature (if ratios are the same, there's the same likelihood of coming back to prison)"
   ]
  },
  {
   "cell_type": "code",
   "execution_count": 88,
   "metadata": {},
   "outputs": [],
   "source": [
    "df_off_class = df.groupby(['Offense Classification'])['Recidivism Type'].value_counts(normalize=True)"
   ]
  },
  {
   "cell_type": "code",
   "execution_count": 89,
   "metadata": {},
   "outputs": [
    {
     "data": {
      "image/png": "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\n",
      "text/plain": [
       "<Figure size 432x288 with 1 Axes>"
      ]
     },
     "metadata": {
      "needs_background": "light"
     },
     "output_type": "display_data"
    }
   ],
   "source": [
    "df_off_class.plot.bar();"
   ]
  },
  {
   "cell_type": "code",
   "execution_count": 90,
   "metadata": {},
   "outputs": [
    {
     "data": {
      "text/plain": [
       "(318.5918413473404,\n",
       " 1.5528186864606973e-59,\n",
       " 14,\n",
       " array([[2.66533420e+00, 4.86604912e-01, 8.48060883e-01],\n",
       "        [1.03281700e+02, 1.88559403e+01, 3.28623592e+01],\n",
       "        [3.28369174e+03, 5.99497252e+02, 1.04481101e+03],\n",
       "        [1.18207572e+03, 2.15809279e+02, 3.76115002e+02],\n",
       "        [6.98717362e+03, 1.27563478e+03, 2.22319161e+03],\n",
       "        [4.59836784e+03, 8.39515125e+02, 1.46311704e+03],\n",
       "        [1.17607872e+03, 2.14714417e+02, 3.74206865e+02],\n",
       "        [2.66533420e+00, 4.86604912e-01, 8.48060883e-01]]))"
      ]
     },
     "execution_count": 90,
     "metadata": {},
     "output_type": "execute_result"
    }
   ],
   "source": [
    "off_class_cross_tab = pd.crosstab(df['Offense Classification'], df['Recidivism Type'])\n",
    "stats.chi2_contingency(off_class_cross_tab)"
   ]
  },
  {
   "cell_type": "markdown",
   "metadata": {},
   "source": [
    "The very low p-value (4.44e-16) rejects null hyp - this means that there IS a relationship between Offense Classification and Rec Type and therefore Offense Classification can be used as a predictor for Rec Type"
   ]
  },
  {
   "cell_type": "code",
   "execution_count": 17,
   "metadata": {},
   "outputs": [],
   "source": [
    "df_serious = df.groupby([df['Offense Classification'] > 5])['Recidivism Type'].value_counts(normalize=True)"
   ]
  },
  {
   "cell_type": "code",
   "execution_count": 18,
   "metadata": {},
   "outputs": [
    {
     "data": {
      "image/png": "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\n",
      "text/plain": [
       "<Figure size 432x288 with 1 Axes>"
      ]
     },
     "metadata": {
      "needs_background": "light"
     },
     "output_type": "display_data"
    }
   ],
   "source": [
    "df_serious.plot.bar();"
   ]
  },
  {
   "cell_type": "markdown",
   "metadata": {},
   "source": [
    "**8. Offense Type**\n",
    "\n",
    "Null hypothesis - there are equal proportions for each class within this feature (if ratios are the same, there's the same likelihood of coming back to prison)"
   ]
  },
  {
   "cell_type": "code",
   "execution_count": 15,
   "metadata": {},
   "outputs": [],
   "source": [
    "df_off_type = df.groupby(['Offense Type'])['Recidivism Type'].value_counts(normalize=True)"
   ]
  },
  {
   "cell_type": "code",
   "execution_count": 16,
   "metadata": {},
   "outputs": [
    {
     "data": {
      "image/png": "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\n",
      "text/plain": [
       "<Figure size 432x288 with 1 Axes>"
      ]
     },
     "metadata": {
      "needs_background": "light"
     },
     "output_type": "display_data"
    }
   ],
   "source": [
    "df_off_type.plot.bar();"
   ]
  },
  {
   "cell_type": "code",
   "execution_count": 93,
   "metadata": {},
   "outputs": [
    {
     "data": {
      "text/plain": [
       "(389.0578179962965,\n",
       " 4.09905858787858e-79,\n",
       " 8,\n",
       " array([[5274.03005727,  962.86946996, 1678.10047277],\n",
       "        [ 872.89695199,  159.36310874,  277.73993927],\n",
       "        [4910.21193835,  896.44789945, 1562.3401622 ],\n",
       "        [2403.46511896,  438.79597955,  764.73890149],\n",
       "        [3875.39593343,  707.5235423 , 1233.08052427]]))"
      ]
     },
     "execution_count": 93,
     "metadata": {},
     "output_type": "execute_result"
    }
   ],
   "source": [
    "off_type_cross_tab = pd.crosstab(df['Offense Type'], df['Recidivism Type'])\n",
    "stats.chi2_contingency(off_type_cross_tab)"
   ]
  },
  {
   "cell_type": "markdown",
   "metadata": {},
   "source": [
    "The very low p-value rejects null hyp - this means that there IS a relationship between Offense Type and Rec Type and therefore Offense Type can be used as a predictor for Rec Type"
   ]
  },
  {
   "cell_type": "markdown",
   "metadata": {},
   "source": [
    "**9. Offense Subtype**\n",
    "\n",
    "Null hypothesis - there are equal proportions for each class within this feature (if ratios are the same, there's the same likelihood of coming back to prison)"
   ]
  },
  {
   "cell_type": "code",
   "execution_count": 102,
   "metadata": {},
   "outputs": [],
   "source": [
    " df_off_subt = df.groupby(['Offense Subtype'])['Recidivism Type'].value_counts(normalize=True)"
   ]
  },
  {
   "cell_type": "code",
   "execution_count": 104,
   "metadata": {},
   "outputs": [],
   "source": [
    "#df_off_subt.plot.bar();"
   ]
  },
  {
   "cell_type": "code",
   "execution_count": 105,
   "metadata": {},
   "outputs": [
    {
     "data": {
      "text/plain": [
       "(777.7086396116059,\n",
       " 3.254504231984542e-131,\n",
       " 50,\n",
       " array([[2.37214744e+02, 4.33078372e+01, 7.54774186e+01],\n",
       "        [4.66433486e+00, 8.51558596e-01, 1.48410655e+00],\n",
       "        [1.07279702e+02, 1.95858477e+01, 3.41344506e+01],\n",
       "        [2.12493769e+03, 3.87945766e+02, 6.76116539e+02],\n",
       "        [1.97501265e+03, 3.60574240e+02, 6.28413115e+02],\n",
       "        [7.60952915e+02, 1.38925702e+02, 2.42121382e+02],\n",
       "        [5.59720183e+01, 1.02187032e+01, 1.78092785e+01],\n",
       "        [8.04930930e+02, 1.46954683e+02, 2.56114387e+02],\n",
       "        [4.39780144e+01, 8.02898105e+00, 1.39930046e+01],\n",
       "        [2.62535419e+02, 4.79305838e+01, 8.35339970e+01],\n",
       "        [1.19340339e+03, 2.17877349e+02, 3.79719260e+02],\n",
       "        [7.93603259e+02, 1.44886613e+02, 2.52510128e+02],\n",
       "        [1.87239728e+02, 3.41839951e+01, 5.95762770e+01],\n",
       "        [2.07229734e+02, 3.78335319e+01, 6.59367337e+01],\n",
       "        [4.00466464e+02, 7.31123881e+01, 1.27421148e+02],\n",
       "        [2.53206749e+01, 4.62274667e+00, 8.05657839e+00],\n",
       "        [2.25220740e+02, 4.11181151e+01, 7.16611446e+01],\n",
       "        [8.50907945e+02, 1.55348618e+02, 2.70743437e+02],\n",
       "        [8.72896952e+01, 1.59363109e+01, 2.77739939e+01],\n",
       "        [4.19790137e+01, 7.66402737e+00, 1.33569589e+01],\n",
       "        [5.99700196e+00, 1.09486105e+00, 1.90813699e+00],\n",
       "        [1.78577392e+03, 3.26025291e+02, 5.68200792e+02],\n",
       "        [3.49158781e+02, 6.37452435e+01, 1.11095976e+02],\n",
       "        [4.32583741e+03, 7.89759772e+02, 1.37640281e+03],\n",
       "        [2.31217742e+02, 4.22129761e+01, 7.35692816e+01],\n",
       "        [2.47876081e+02, 4.52542568e+01, 7.88696621e+01]]))"
      ]
     },
     "execution_count": 105,
     "metadata": {},
     "output_type": "execute_result"
    }
   ],
   "source": [
    "off_subt_cross_tab = pd.crosstab(df['Offense Subtype'], df['Recidivism Type'])\n",
    "stats.chi2_contingency(off_subt_cross_tab)"
   ]
  },
  {
   "cell_type": "markdown",
   "metadata": {},
   "source": [
    "**10. Race**\n",
    "\n",
    "Null hypothesis - there are equal proportions for each class within this feature\n",
    "(if ratios are the same, there's the same likelihood of coming back to prison)"
   ]
  },
  {
   "cell_type": "code",
   "execution_count": 27,
   "metadata": {},
   "outputs": [],
   "source": [
    "race_grouped = df.groupby('Race').agg({'Recidivism Type': 'value_counts'})"
   ]
  },
  {
   "cell_type": "code",
   "execution_count": 28,
   "metadata": {},
   "outputs": [
    {
     "data": {
      "text/html": [
       "<div>\n",
       "<style scoped>\n",
       "    .dataframe tbody tr th:only-of-type {\n",
       "        vertical-align: middle;\n",
       "    }\n",
       "\n",
       "    .dataframe tbody tr th {\n",
       "        vertical-align: top;\n",
       "    }\n",
       "\n",
       "    .dataframe thead th {\n",
       "        text-align: right;\n",
       "    }\n",
       "</style>\n",
       "<table border=\"1\" class=\"dataframe\">\n",
       "  <thead>\n",
       "    <tr style=\"text-align: right;\">\n",
       "      <th></th>\n",
       "      <th></th>\n",
       "      <th>Recidivism Type</th>\n",
       "    </tr>\n",
       "    <tr>\n",
       "      <th>Race</th>\n",
       "      <th>Recidivism Type</th>\n",
       "      <th></th>\n",
       "    </tr>\n",
       "  </thead>\n",
       "  <tbody>\n",
       "    <tr>\n",
       "      <td rowspan=\"3\" valign=\"top\">American Indian or Alaska Native</td>\n",
       "      <td>0</td>\n",
       "      <td>317</td>\n",
       "    </tr>\n",
       "    <tr>\n",
       "      <td>2</td>\n",
       "      <td>122</td>\n",
       "    </tr>\n",
       "    <tr>\n",
       "      <td>1</td>\n",
       "      <td>83</td>\n",
       "    </tr>\n",
       "    <tr>\n",
       "      <td rowspan=\"3\" valign=\"top\">Asian or Pacific Islander</td>\n",
       "      <td>0</td>\n",
       "      <td>151</td>\n",
       "    </tr>\n",
       "    <tr>\n",
       "      <td>2</td>\n",
       "      <td>24</td>\n",
       "    </tr>\n",
       "    <tr>\n",
       "      <td>1</td>\n",
       "      <td>22</td>\n",
       "    </tr>\n",
       "    <tr>\n",
       "      <td rowspan=\"3\" valign=\"top\">Black</td>\n",
       "      <td>0</td>\n",
       "      <td>4095</td>\n",
       "    </tr>\n",
       "    <tr>\n",
       "      <td>2</td>\n",
       "      <td>1389</td>\n",
       "    </tr>\n",
       "    <tr>\n",
       "      <td>1</td>\n",
       "      <td>664</td>\n",
       "    </tr>\n",
       "    <tr>\n",
       "      <td>None Given</td>\n",
       "      <td>0</td>\n",
       "      <td>32</td>\n",
       "    </tr>\n",
       "    <tr>\n",
       "      <td rowspan=\"3\" valign=\"top\">White</td>\n",
       "      <td>0</td>\n",
       "      <td>12741</td>\n",
       "    </tr>\n",
       "    <tr>\n",
       "      <td>2</td>\n",
       "      <td>3981</td>\n",
       "    </tr>\n",
       "    <tr>\n",
       "      <td>1</td>\n",
       "      <td>2396</td>\n",
       "    </tr>\n",
       "  </tbody>\n",
       "</table>\n",
       "</div>"
      ],
      "text/plain": [
       "                                                  Recidivism Type\n",
       "Race                             Recidivism Type                 \n",
       "American Indian or Alaska Native 0                            317\n",
       "                                 2                            122\n",
       "                                 1                             83\n",
       "Asian or Pacific Islander        0                            151\n",
       "                                 2                             24\n",
       "                                 1                             22\n",
       "Black                            0                           4095\n",
       "                                 2                           1389\n",
       "                                 1                            664\n",
       "None Given                       0                             32\n",
       "White                            0                          12741\n",
       "                                 2                           3981\n",
       "                                 1                           2396"
      ]
     },
     "execution_count": 28,
     "metadata": {},
     "output_type": "execute_result"
    }
   ],
   "source": [
    "race_grouped"
   ]
  },
  {
   "cell_type": "code",
   "execution_count": 30,
   "metadata": {},
   "outputs": [],
   "source": [
    " df_race = df.groupby(['Race'])['Recidivism Type'].value_counts(normalize=True)"
   ]
  },
  {
   "cell_type": "code",
   "execution_count": 31,
   "metadata": {},
   "outputs": [
    {
     "data": {
      "text/plain": [
       "Race                              Recidivism Type\n",
       "American Indian or Alaska Native  0                  0.607280\n",
       "                                  2                  0.233716\n",
       "                                  1                  0.159004\n",
       "Asian or Pacific Islander         0                  0.766497\n",
       "                                  2                  0.121827\n",
       "                                  1                  0.111675\n",
       "Black                             0                  0.666070\n",
       "                                  2                  0.225927\n",
       "                                  1                  0.108003\n",
       "None Given                        0                  1.000000\n",
       "White                             0                  0.666440\n",
       "                                  2                  0.208233\n",
       "                                  1                  0.125327\n",
       "Name: Recidivism Type, dtype: float64"
      ]
     },
     "execution_count": 31,
     "metadata": {},
     "output_type": "execute_result"
    }
   ],
   "source": [
    "df_race"
   ]
  },
  {
   "cell_type": "code",
   "execution_count": 96,
   "metadata": {},
   "outputs": [
    {
     "data": {
      "image/png": "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\n",
      "text/plain": [
       "<Figure size 432x288 with 1 Axes>"
      ]
     },
     "metadata": {
      "needs_background": "light"
     },
     "output_type": "display_data"
    }
   ],
   "source": [
    "df_race.plot.bar();"
   ]
  },
  {
   "cell_type": "code",
   "execution_count": 97,
   "metadata": {},
   "outputs": [
    {
     "data": {
      "text/plain": [
       "(55.02827606194152,\n",
       " 4.359412856323884e-09,\n",
       " 8,\n",
       " array([[3.47826114e+02, 6.35019410e+01, 1.10671945e+02],\n",
       "        [1.31267710e+02, 2.39652919e+01, 4.17669985e+01],\n",
       "        [4.09661867e+03, 7.47911750e+02, 1.30346958e+03],\n",
       "        [2.13226736e+01, 3.89283930e+00, 6.78448707e+00],\n",
       "        [1.27389648e+04, 2.32572818e+03, 4.05330699e+03]]))"
      ]
     },
     "execution_count": 97,
     "metadata": {},
     "output_type": "execute_result"
    }
   ],
   "source": [
    "race_cross_tab = pd.crosstab(df.Race, df['Recidivism Type'])\n",
    "stats.chi2_contingency(race_cross_tab)"
   ]
  },
  {
   "cell_type": "markdown",
   "metadata": {},
   "source": [
    "The v low p-value rejects null hyp - this means that there IS a relationship between Race and Rec Type and therefore Race can be used as a predictor for Rec Type  "
   ]
  },
  {
   "cell_type": "markdown",
   "metadata": {},
   "source": [
    "**11. Ethnicity**"
   ]
  },
  {
   "cell_type": "markdown",
   "metadata": {},
   "source": [
    "Null hypothesis - there are equal proportions for each class within this feature\n",
    "(if ratios are the same, there's the same likelihood of coming back to prison)"
   ]
  },
  {
   "cell_type": "code",
   "execution_count": null,
   "metadata": {},
   "outputs": [],
   "source": [
    "df_eth = df.groupby(['Ethnicity'])['Recidivism Type'].value_counts(normalize=True)"
   ]
  },
  {
   "cell_type": "code",
   "execution_count": 99,
   "metadata": {},
   "outputs": [
    {
     "data": {
      "image/png": "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\n",
      "text/plain": [
       "<Figure size 432x288 with 1 Axes>"
      ]
     },
     "metadata": {
      "needs_background": "light"
     },
     "output_type": "display_data"
    }
   ],
   "source": [
    "df_eth.plot.bar();"
   ]
  },
  {
   "cell_type": "code",
   "execution_count": 100,
   "metadata": {},
   "outputs": [
    {
     "data": {
      "text/plain": [
       "(122.03335268464195,\n",
       " 1.9647289653174111e-25,\n",
       " 4,\n",
       " array([[1.05547235e+03, 1.92695545e+02, 3.35832110e+02],\n",
       "        [1.62498763e+04, 2.96670850e+03, 5.17041519e+03],\n",
       "        [3.06513434e+01, 5.59595649e+00, 9.75270016e+00]]))"
      ]
     },
     "execution_count": 100,
     "metadata": {},
     "output_type": "execute_result"
    }
   ],
   "source": [
    "eth_cross_tab = pd.crosstab(df.Ethnicity, df['Recidivism Type'])\n",
    "stats.chi2_contingency(eth_cross_tab)"
   ]
  },
  {
   "cell_type": "markdown",
   "metadata": {},
   "source": [
    "The very low p-value (1.98e-25) rejects null hyp - this means that there IS a relationship between ethnicity and Rec Type and therefore ethnicity can be used as a predictor for Rec Type"
   ]
  },
  {
   "cell_type": "code",
   "execution_count": null,
   "metadata": {},
   "outputs": [],
   "source": [
    "df.groupby(['Recidivism Type'])['Ethnicity'].count()"
   ]
  },
  {
   "cell_type": "code",
   "execution_count": null,
   "metadata": {},
   "outputs": [],
   "source": []
  },
  {
   "cell_type": "code",
   "execution_count": 19,
   "metadata": {},
   "outputs": [],
   "source": [
    "features = pd.DataFrame({'Feature Name': ['Year Released', \n",
    "                                          'Tracking End',\n",
    "                                          'District',\n",
    "                                          'Release Type',\n",
    "                                          'Average Release Age',\n",
    "                                          'Sex',\n",
    "                                          'Offense Classification',\n",
    "                                          'Offense Type',\n",
    "                                          'Offense Subtype',\n",
    "                                          'Race',\n",
    "                                          'Ethnicity'],\n",
    "                         'p-Value': [8.95123449685278e-25,\n",
    "                                    8.95123449685278e-25,\n",
    "                                    0.0,\n",
    "                                    0.0,\n",
    "                                    7.91759844257177e-46,\n",
    "                                   4.444503779675358e-16, \n",
    "                                   1.5528186864606973e-59,\n",
    "                                    4.09905858787858e-79,\n",
    "                                    3.254504231984542e-131,\n",
    "                                    4.359412856323884e-09,\n",
    "                                    1.9647289653174111e-25]\n",
    "                                          \n",
    "                                          \n",
    "                        })"
   ]
  },
  {
   "cell_type": "code",
   "execution_count": 21,
   "metadata": {},
   "outputs": [
    {
     "data": {
      "text/html": [
       "<div>\n",
       "<style scoped>\n",
       "    .dataframe tbody tr th:only-of-type {\n",
       "        vertical-align: middle;\n",
       "    }\n",
       "\n",
       "    .dataframe tbody tr th {\n",
       "        vertical-align: top;\n",
       "    }\n",
       "\n",
       "    .dataframe thead th {\n",
       "        text-align: right;\n",
       "    }\n",
       "</style>\n",
       "<table border=\"1\" class=\"dataframe\">\n",
       "  <thead>\n",
       "    <tr style=\"text-align: right;\">\n",
       "      <th></th>\n",
       "      <th>Feature Name</th>\n",
       "      <th>p-Value</th>\n",
       "    </tr>\n",
       "  </thead>\n",
       "  <tbody>\n",
       "    <tr>\n",
       "      <td>0</td>\n",
       "      <td>Year Released</td>\n",
       "      <td>8.951234e-25</td>\n",
       "    </tr>\n",
       "    <tr>\n",
       "      <td>1</td>\n",
       "      <td>Tracking End</td>\n",
       "      <td>8.951234e-25</td>\n",
       "    </tr>\n",
       "    <tr>\n",
       "      <td>2</td>\n",
       "      <td>District</td>\n",
       "      <td>0.000000e+00</td>\n",
       "    </tr>\n",
       "    <tr>\n",
       "      <td>3</td>\n",
       "      <td>Release Type</td>\n",
       "      <td>0.000000e+00</td>\n",
       "    </tr>\n",
       "    <tr>\n",
       "      <td>4</td>\n",
       "      <td>Average Release Age</td>\n",
       "      <td>7.917598e-46</td>\n",
       "    </tr>\n",
       "    <tr>\n",
       "      <td>5</td>\n",
       "      <td>Sex</td>\n",
       "      <td>4.444504e-16</td>\n",
       "    </tr>\n",
       "    <tr>\n",
       "      <td>6</td>\n",
       "      <td>Offense Classification</td>\n",
       "      <td>1.552819e-59</td>\n",
       "    </tr>\n",
       "    <tr>\n",
       "      <td>7</td>\n",
       "      <td>Offense Type</td>\n",
       "      <td>4.099059e-79</td>\n",
       "    </tr>\n",
       "    <tr>\n",
       "      <td>8</td>\n",
       "      <td>Offense Subtype</td>\n",
       "      <td>3.254504e-131</td>\n",
       "    </tr>\n",
       "    <tr>\n",
       "      <td>9</td>\n",
       "      <td>Race</td>\n",
       "      <td>4.359413e-09</td>\n",
       "    </tr>\n",
       "    <tr>\n",
       "      <td>10</td>\n",
       "      <td>Ethnicity</td>\n",
       "      <td>1.964729e-25</td>\n",
       "    </tr>\n",
       "  </tbody>\n",
       "</table>\n",
       "</div>"
      ],
      "text/plain": [
       "              Feature Name        p-Value\n",
       "0            Year Released   8.951234e-25\n",
       "1             Tracking End   8.951234e-25\n",
       "2                 District   0.000000e+00\n",
       "3             Release Type   0.000000e+00\n",
       "4      Average Release Age   7.917598e-46\n",
       "5                      Sex   4.444504e-16\n",
       "6   Offense Classification   1.552819e-59\n",
       "7             Offense Type   4.099059e-79\n",
       "8          Offense Subtype  3.254504e-131\n",
       "9                     Race   4.359413e-09\n",
       "10               Ethnicity   1.964729e-25"
      ]
     },
     "execution_count": 21,
     "metadata": {},
     "output_type": "execute_result"
    }
   ],
   "source": [
    "features"
   ]
  },
  {
   "cell_type": "code",
   "execution_count": 26,
   "metadata": {},
   "outputs": [
    {
     "data": {
      "image/png": "iVBORw0KGgoAAAANSUhEUgAAAYIAAAF5CAYAAACSry1TAAAABHNCSVQICAgIfAhkiAAAAAlwSFlzAAALEgAACxIB0t1+/AAAADh0RVh0U29mdHdhcmUAbWF0cGxvdGxpYiB2ZXJzaW9uMy4xLjEsIGh0dHA6Ly9tYXRwbG90bGliLm9yZy8QZhcZAAAgAElEQVR4nO3dd7hcVbnH8e8voUrXREFaqKIiNXREmooNFFGKDaToFSWgXhXwguAVLzZEEZAiICKC2CLSQdoFAgFCCUUCyAVBCTUBaYHf/WOtIZPJnBJy1t45e97P88yT2WXmXXNyzrx7ryrbhBBC6F0j6i5ACCGEekUiCCGEHheJIIQQelwkghBC6HGRCEIIocdFIgghhB4XiSA0nqQxkixpvkGcu7ukq6soVwjzikgEYZ4i6e+SXpQ0qmP/pPxlPqaekr1ajj0l3SVpuqR/SfqLpMXqLFMIcysSQZgX3Q/s2tqQ9A5g4fqK82o53gUcAexqezHgrcDZ9ZZqzg3mzij0lkgEYV50OvDptu3PAL9sP0HSEpJ+KWmqpAckfVPSiHxspKQfSHpM0n3AB7q89mRJj0j6h6T/ljRyEOXaALjW9s0Atp+wfZrt6fl9L5e0V1ucWaqZ8h3NFyTdk+8ovi1pFUnXSpom6WxJC+Rzt5T0kKSvSXo0l/XDkt4v6W+SnpB0UNt7b5jf56l87jGt92qLva+ke4B7JP1M0g87fi5/lrT/IH4OoWEiEYR50XXA4pLemr+gdwZ+1XHOT4ElgJWBd5ESxx752N7AB4F1gbHATh2vPQ2YAayaz3kPsBcDmwC8V9JhkjaTtOCcfjBgO2B9YGPga8AJwCeA5YE1absTApYGFgKWBQ4BTgQ+mV//TuAQSSvnc18GDgBGAZsA2wBf6Ij9YWAj4G2kn8GubclzVH7Nma/hM4VhblgmAkm/yFdJtw/R+x0p6fb82Hko3jPMtdZdwbuBu4B/tA60JYcDbU+3/Xfgh8Cn8ikfB35s+0HbTwDfbXvtm4D3Afvbftb2o8BRwC4DFcj2VcCOwHrAX4DHJf1okHcTLUfanmZ7MnA7cJHt+2w/DZxPSkwtLwHfsf0S8BvSl/zR+TNPBiYDa+Wy3Wj7Otsz8s/j56QE2e67+S7mOdvXA0+TvvzJn/9y2/+ag88SGmK41hWeChxDR3XBayHpA6Q/7HWABYErJJ1ve9rcvneYK6cDVwIrMfv/8yhgAeCBtn0PkK6cAd4MPNhxrGVFYH7gEUmtfSM6zu+T7fOB8/OV9FbAb4G7SV+8g9H+Rftcl+2l27Yft/1y27Fur18UQNLqwI9Id0CvI/1t39gRu/Mznka6w7g4/3v0ID9DaJhheUdg+0rgifZ9ua71Akk3SrpK0hqDfLu3AVfkK6lngVtIt++hRrYfIDUavx/4fcfhx0hXyyu27VuBmXcNj5CqWtqPtTwIvACMsr1kfixu++1zWL5XbF8KXEaq0gF4lvQl3LL0bC8s5zjSndNqthcHDgLUcU7nVMO/AnaQtDap4fuPxUsZ5knDMhH04QTgS7bXB74KHDvI190CvE/S63I96VbM+iUS6rMnsHVO0K/KV8lnA9+RtJikFYEvM7Md4WxgP0nLSVoK+Ebbax8BLgJ+KGlxSSPyRURnNcpsJO0gaRdJSynZkFT9cl0+ZRKwY/5dWjWXvyqLAdOAZ/JF0H8M9ALbDwE3kO6+fmf7uQFeEhqqEYlA0qLApsBvJU0i3aYvk4/t2Fb/3/64EMD2RcB5wDWkhrJrSQ2JoWa277U9sY/DXyJdgd8HXA38GvhFPnYicCEpyd/E7HcUnyZVLd0BPAmcQ/59GcCTpIboe0hfur8Cvm/7jHz8KOBFUvXNacAZ3d6kkK8CuwHTSZ//rEG+7jTgHaRkEHqUhuvCNHlg0bm215S0OHC37cH8MQ/0vr8GfmX7vLl9rxDmdZK2ICW0MbZfqbs8oR6NuCPIDbv3S/oYQL5tX3swr819zt+Qn69F6oVxUbHChjCPkDQ/MA44KZJAbxuWiUBSqwrnLXnQzZ6kvth7SrqF1K1uh0G+3fzAVZLuILUzfNJ2VA2FRpP0VuApUpXYj2suTqjZsK0aCiGEMDSG5R1BCCGEoROJIIQQetywG1k8atQojxkzpu5ihBAaYvqM8k2Ci81X/1ftjTfe+Jjt0d2O1V+6OTRmzBgmTuyra3kIIcyZKx57tHiMd416Y/EYA5H0QF/HomoohBB6XCSCEELocZEIQgihx0UiCCGEHheJIIQQelwkghBC6HGRCEIIocdFIgghhB4XiSCEEHpcJIIQQuhxkQhCCKHHRSIIIYQeVzwR5KUgb5Z0bpdjC0o6S9IUSRPyOsQhhBAqVMUdwTjgzj6O7Qk8aXtV4CjgyArKE0IIoU3RRCBpOeADwEl9nLIDcFp+fg6wjSSVLFMIIYRZlb4j+DHwNeCVPo4vCzwIkBeMfxp4Q+EyhRBCaFMsEUj6IPCo7Rv7O63LPnd5r30kTZQ0cerUqUNWxhBCCGXvCDYDtpf0d+A3wNaSftVxzkPA8gCS5gOWAJ7ofCPbJ9gea3vs6NFdV1oLIYTwGhVLBLYPtL2c7THALsBltj/Zcdp44DP5+U75nNnuCEIIIZRT+ZrFkg4HJtoeD5wMnC5pCulOYJeqyxNCCL2ukkRg+3Lg8vz8kLb9zwMfq6IMIYQQuouRxSGE0OMiEYQQQo+LRBBCCD0uEkEIIfS4SAQhhNDjIhGEEEKPi0QQQgg9LhJBCCH0uEgEIYTQ4yIRhBBCj4tEEEIIPS4SQQgh9LhIBCGE0OMiEYQQQo+LRBBCCD0uEkEIIfS4kovXLyTpekm3SJos6bAu5+wuaaqkSfmxV6nyhBBC6K7kCmUvAFvbfkbS/MDVks63fV3HeWfZ/mLBcoQQQuhHsUSQF6F/Jm/Onx+xMH0IIcxjirYRSBopaRLwKHCx7QldTvuopFslnSNp+ZLlCSGEMLuiicD2y7bXAZYDNpS0ZscpfwbG2F4LuAQ4rdv7SNpH0kRJE6dOnVqyyCGE0HMq6TVk+yngcmC7jv2P234hb54IrN/H60+wPdb22NGjRxctawgh9JqSvYZGS1oyP18Y2Ba4q+OcZdo2twfuLFWeEEII3ZXsNbQMcJqkkaSEc7btcyUdDky0PR7YT9L2wAzgCWD3guUJIYTQRcleQ7cC63bZf0jb8wOBA0uVIYQQwsBiZHEIIfS4SAQhhNDjIhGEEEKPi0QQQgg9LhJBCCH0uEgEIYTQ4yIRhBBCj4tEEEIIPS4SQQgh9LhIBCGE0OMiEYQQQo+LRBBCCD0uEkEIIfS4SAQhhNDjIhGEEEKPi0QQQgg9ruRSlQtJul7SLZImSzqsyzkLSjpL0hRJEySNKVWeEEII3ZW8I3gB2Nr22sA6wHaSNu44Z0/gSdurAkcBRxYsTwghhC6KJQInz+TN+fPDHaftAJyWn58DbCNJpcoUQghhdkXbCCSNlDQJeBS42PaEjlOWBR4EsD0DeBp4Q8kyhRBCmFXRRGD7ZdvrAMsBG0pas+OUblf/nXcNSNpH0kRJE6dOnVqiqCGE0LMq6TVk+yngcmC7jkMPAcsDSJoPWAJ4osvrT7A91vbY0aNHFy5tCCH0lpK9hkZLWjI/XxjYFrir47TxwGfy852Ay2zPdkcQQgihnPkKvvcywGmSRpISztm2z5V0ODDR9njgZOB0SVNIdwK7FCxPCCGELoolAtu3Aut22X9I2/PngY+VKkMIIYSBDVg1JOl1kv5L0ol5ezVJHyxftBBCCFUYTBvBKaTBYZvk7YeA/y5WohBCCJUaTCJYxfb3gJcAbD9H926fIYQQhqHBJIIXc68fA0hahXSHEEIIoQEG01h8KHABsLykM4DNgN1LFiqEEEJ1+k0Eed6fu4AdgY1JVULjbD9WQdlCCCFUoN9EYNuS/mh7feAvFZUphBBChQbTRnCdpA2KlySEEEItBtNGsBXwOUkPAM+Sqodse62iJQshhFCJwSSC9xUvRQghhNoMWDVk+wFgSeBD+bFk3hdCCKEBBjPFxDjgDOCN+fErSV8qXbAQQgjVGEzV0J7ARrafBZB0JHAt8NOSBQshhFCNwfQaEvBy2/bLxBQTIYTQGIO5IzgFmCDpD3n7w6R1BEIIITTAgInA9o8kXQ5sTroT2MP2zaULFkIIoRqDaSzeGLjH9k9sHw1MkbTRIF63vKS/SrpT0uTc6Nx5zpaSnpY0KT8O6fZeIYQQyhlM1dBxwHpt28922dfNDOArtm+StBhwo6SLbd/Rcd5VtmOhmxBCqMmgGovbF5S3/QqDq1J6xPZN+fl04E5g2dda0BBCCGUMJhHcJ2k/SfPnxzjgvjkJImkMaf3iCV0ObyLpFknnS3r7nLxvCCGEuTeYRPB5YFPgH/mxEbDPYANIWhT4HbC/7Wkdh28CVrS9Nmlcwh/7eI99JE2UNHHq1KmDDR1CCGEQBjPFxKO2d7H9xvzYzfajg3lzSfOTksAZtn/f5b2n2X4mPz8PmF/SqC7nnWB7rO2xo0ePHkzoEEIIg9RnIpC0t6TV8nNJ+kXu4XOrpIEailuL2pwM3Gn7R32cs3Q+D0kb5vI8/lo+SAghhNemv0bfccCp+fmuwNrAyqS6/qOBdw7w3psBnwJukzQp7zsIWAHA9vHATsB/SJoBPAfs0t4wHUIIobz+EsEM2y/l5x8Efmn7ceASSd8b6I1tX80AU1HYPgY4ZrCFDSGEMPT6ayN4RdIykhYCtgEuaTu2cNlihRBCqEp/dwSHABOBkcB425MBJL2LOew+GkIIYd7VZyKwfa6kFYHFbD/ZdmgisHPxkoUQQqhEvyOEbc8AnuzY92zREoUQQqjUYAaUhRBCaLBIBCGE0OP6G1B2h6SDJa1SZYFCCCFUq787gl2BRYGLJE2QtL+kN1dUrhBCCBXpMxHYvsX2gbZXIY0yXhG4TtJlkvaurIQhhBCKGlQbge3rbB8AfBpYihgNHEIIjTHgAjOSNiBVE30U+DtwAvDbssUKIYRQlT4TgaQjSAPHngR+A2xm+6GqChZCCKEa/d0RvAC8z/bfqipMCCGE6vXXRnAfaTWyWeR1CnYrV6QQQghV6i8RfJnuS0f+BvhKmeKEEEKoWn+JYKTt6Z078775yxUphBBClfpLBPNLWqRzp6TFgAUGemNJy0v6q6Q7JU2WNK7LOZL0E0lTBrsEZgghhKHVXyI4GThH0pjWjvz8N/nYQGYAX7H9VmBjYF9Jb+s4533AavmxD3DcIMsdQghhiPS3HsEPJD0DXCFpUcDAs8D/2B7wC9v2I8Aj+fl0SXcCywJ3tJ22A2kJTJNGLS8paZn82hBCCBUYaD2C44HjcyJQtzaDwch3EusCEzoOLQs82Lb9UN4XiSCEECoy2CkmnpmLJLAo8Dtgf9vTOg93C9flPfaRNFHSxKlTp76WYoQQQuhD0fUIJM1PSgJn2P59l1MeApZv214OeLjzJNsn2B5re+zo0aPLFDaEEHpUsUQgSaRG5Ttt/6iP08YDn869hzYGno72gRBCqNaAk84BSNoUGNN+vu1fDvCyzYBPAbdJmpT3HQSskF9/PHAe8H5gCvBvYI85KHsIIYQhMJjZR08HVgEmAS/n3Qb6TQS2r6Z7G0D7OQb2HVRJQwghFDGYO4KxwNvyl3YIIYSGGUwbwe3A0qULEkIIoR6DuSMYBdwh6XrS1NQA2N6+WKlCCCFUZjCJ4FulCxFCCKE+AyYC21dUUZAQQgj1GLCNQNLGkm6Q9IykFyW9LKlzhHAIIYRhajCNxceQFq+/B1gY2CvvCyGE0ACDGlBme4qkkbZfBk6RdE3hcoUQQqjIYBLBvyUtAEyS9D3SzKCzLVgTQghheBpM1dCn8nlfJK1HsDzw0ZKFCiGEUJ3B9Bp6QNLCwDK2D6ugTCGEECo0mF5DHyLNM3RB3l5H0vjSBQshhFCNwVQNfQvYEHgKwPYk0kykIYQQGmAwiWCG7aeLlySEEEItBtNr6HZJuwEjJa0G7AdE99EQQmiIwdwRfAl4O2nCuTOBacD+JQsVQgihOgMmAtv/tn2w7Q3yusEH235+oNdJ+oWkRyXd3sfxLSU9LWlSfhzyWj5ACCGEudNn1dBAPYMGMQ31qaSpKPpbyewq2x8c4H1CCCEU1F8bwSbAg6TqoAkMsOxkJ9tXShrzmksWQgihEv1VDS1NWmx+TeBo4N3AY7avGMKpqTeRdIuk8yW9va+TJO0jaaKkiVOnTh2i0CGEEKCfRGD7ZdsX2P4MsDEwBbhc0peGKPZNwIq21wZ+Cvyxn7KckNsnxo4ePXqIwocQQoABGoslLShpR+BXwL7AT4DfD0Vg29NsP5OfnwfML2nUULx3CCGEweuvsfg0UrXQ+cBhtrv2/nmtJC0N/Mu2JW1ISkqPD2WMEEIIA+uvsfhTpNlGVwf2k15tKxZg24v398aSzgS2BEZJegg4FJif9OLjgZ2A/5A0A3gO2MW2X/tHCSGE8Fr0mQhsD2awWZ9s7zrA8WOIlc5CCKF2c/VlH0IIYfiLRBBCCD0uEkEIIfS4SAQhhNDjIhGEEEKPi0QQQgg9LhJBCCH0uEgEIYTQ4yIRhBBCj4tEEEIIPS4SQQgh9LhIBCGE0OMiEYQQQo+LRBBCCD0uEkEIIfS4SAQhhNDjiiUCSb+Q9KikrktcKvmJpCmSbpW0XqmyhBBC6FvJO4JTge36Of4+YLX82Ac4rmBZQggh9KFYIrB9JfBEP6fsAPzSyXXAkpKWKVWeEEII3dXZRrAs8GDb9kN532wk7SNpoqSJU6dOraRwIYTQK+pMBOqyz91OtH2C7bG2x44ePbpwsUIIobfUmQgeApZv214OeLimsoQQQs+qMxGMBz6dew9tDDxt+5EayxNCCD1pvlJvLOlMYEtglKSHgEOB+QFsHw+cB7wfmAL8G9ijVFlCCCH0rVgisL3rAMcN7FsqfgghhMGJkcUhhNDjIhGEEEKPi0QQQgg9LhJBCCH0uEgEIYTQ4yIRhBBCj4tEEEIIPS4SQQgh9LhIBCGE0OMiEYQQQo+LRBBCCD0uEkEIIfS4SAQhhNDjIhGEEEKPi0QQQgg9LhJBCCH0uKKJQNJ2ku6WNEXSN7oc313SVEmT8mOvkuUJIYQwu5JLVY4Efga8m7RQ/Q2Sxtu+o+PUs2x/sVQ5Qggh9K/kHcGGwBTb99l+EfgNsEPBeCGEEF6DkolgWeDBtu2H8r5OH5V0q6RzJC3f7Y0k7SNpoqSJU6dOLVHWEELoWSUTgbrsc8f2n4ExttcCLgFO6/ZGtk+wPdb22NGjRw9xMUMIobeVTAQPAe1X+MsBD7efYPtx2y/kzROB9QuWJ4QQQhclE8ENwGqSVpK0ALALML79BEnLtG1uD9xZsDwhhBC6KNZryPYMSV8ELgRGAr+wPVnS4cBE2+OB/SRtD8wAngB2L1WeEEII3RVLBAC2zwPO69h3SNvzA4EDS5YhhBBC/2JkcQgh9LhIBCGE0OMiEYQQQo+LRBBCCD0uEkEIIfS4SAQhhNDjIhGEEEKPi0QQQgg9LhJBCCH0uEgEIYTQ4yIRhBBCj4tEEEIIPS4SQQgh9LhIBCGE0OMiEYQQQo+LRBBCCD2uaCKQtJ2kuyVNkfSNLscXlHRWPj5B0piS5QkhhDC7YolA0kjgZ8D7gLcBu0p6W8dpewJP2l4VOAo4slR5QgghdFfyjmBDYIrt+2y/CPwG2KHjnB2A0/Lzc4BtJKlgmUIIIXQouWbxssCDbdsPARv1dU5e7P5p4A3AY+0nSdoH2CdvPiPp7tdYplGd712humLHZ+6N2L0Wt87Yw/Uzr9jXgZKJoNuVvV/DOdg+AThhrgskTbQ9dm7fZzjFjs/cG7F7LW6dsZv4mUtWDT0ELN+2vRzwcF/nSJoPWAJ4omCZQgghdCiZCG4AVpO0kqQFgF2A8R3njAc+k5/vBFxme7Y7ghBCCOUUqxrKdf5fBC4ERgK/sD1Z0uHARNvjgZOB0yVNId0J7FKqPNlcVy8Nw9jxmXsjdq/FrTN24z6z4gI8hBB6W4wsDiGEHheJIIQQelwkgjCkJC0naav8fEFJi1QUd2FJb6kiVghNU3IcQW0k7dffcds/KRh7+wFid/acagxJnwW+SOoGvAppAMuxwLaF434I+AGwALCSpHWAw233+38xnEkaDewNjKHt79j2ZwvHXRjYH1jR9uclrQqsZvv8knHb4m+e452SfwaL2r6/itg5/iK2n60qXlWaekcwOj82Jf3SrpIf44B1Csf+WH78B3A6aT6lPYFf5n+Lk3TpYPYVsB+wMTANwPbfgDdWEPdbpClNnspxJ5G+IIuT9O08Bqa1vbikUyoI/SdSwr0E+Evbo7RfkAaCbp63HwaOqCAukg4Fvg4cmHfND/yqotibSroDuDNvry3p2Ipif1HSUiVjNPKOwPZ/AUi6EFjH9rS8/V/AWYVjfyrHGg+8zfY/8vayQLE7kRxjIeB1wKj8i9Maub048OaSsbPnbb/Ymi4qTzxYxdxRM2w/XdM0VfMBEyTtASwN/DQ/Snud7a9XEKfTarZ3lfQxANv/rnB+sI8A6wI35dgPS1qsothHAe8lj4WyfYukLSqKvTRwg6SbSIn4wqEeb9XIRNBmReD5tu0XgJUqir1yKwlkDwOl67A/R7oDejNwIzO/hKeRZoIt7X8lfQ1YKLcT7AucW0Hc2yXtBoyUtBrpzuSaCuJi+8B8tzUBeBLYwvaUCkKfK+n9ts+rIFa7F/MFhwEkrQS8WFVs25bUil1J+1OL7Qc7ct7LFcX9Zr6IfQ+wB3CMpLOBk23fOxQxmlo11PJr0tXaNyUdTPpyOKOi2FdK+oukT0r6BOlK4sqSAW0fbXsl4Ku2V7a9Un6sbfuYkrGzrwHTgbtI1XCXAgdXEPdLwNtJif5MUuLbv4K45KvCo4HDgctJf6RV3H2NIyWD5yVNz49pFcQ9HLgAWE7SacBfmVlVU9rZkn4OLClpb1K12IkVxX5Q0qaAJS0g6avkaqIq5DuAf+bHDGAp4BxJ3xuK92/8gDJJGwCtW7grbd9QUVyR2gre2YoNnFPFFBqS9gXOsP1U3l4K2NV28TpNSfMDq5GuGO+xPaN0zDpJuh7Y3fYdeXtH4Ajba9RbsnJyI+2mpDvOa2w/WmHsd5OujAEusn1xRXFHkRL+tqTPfREwzvbjFcTejzQVz2PAScAfbb8kaQTpb2yVuY7RA4lgY2B127+U9AZgEdv/V3e5SpI0yfY6Hftutr1u4bjbkYbA/x/pj2U5YG/bFxWO+2dmn7X2aWAi8HPbz8/+qiGLPdL2yx373lDRF8T2zLzIudx2FdVwrbibk37mV9v+cxVxc+ylSR0DDNxg+59Vxa5LnpbnZNsPdDn2VttzfWfS6KohSd8EDgW+mXctRKouqiL2DpLulPS0pGkV3roDjGhvwMuNtgtUEPfHwLa2N7e9GfBu0lVUafcBz5CqCU4kVQ39C1id8lUHoySdLOkCAKVV+D5cOCaS/odUPXRHfozL+0rH/WmOew8wBdgv7ytO0l7A9cCOpEkqr8tdlquIfZqkJdu2l5L0iypiAyt1JgFJpwMMRRIgv1FjH8Ak0pXpzW37bq0o9hTgHTV97u8DvwW2AbYGzgZ+WEHcKwezr8q4wOTCsc8HPg7ckrfnA26r4DPfCoxo2x5Zxe82MJlck9AWt+jPuC3W3cAb2rbfANxdUeybB7OvUOybOrZHAncMZYxG3xEALzj95Fq9DF5XYex/2b6twnjtvg5cRhrLsC+p0fZrFcS9XdL4VgO5pD8C10vaXgMMtJtLoyWt0NrIz0fnzdI9WkbZPht4BdKsu1TUmwRYsu35EhXF/Bupyq9lGeD2imI/ROqM0DKdWVdBLGlEe19+Sa+ncK9LSQdKmg6slWsVpuXtR0njSIZM07uP/l7Sz4Alcj/vvUj9cKtwg6QzgD+SerMA1Ywstv0KcFx+VGkxUt38e/P2dOBNpEZzM/t6FEPlK8DVku4l3QGuBOybuxee1u8r596zue2pdbGxMelnUNp3gZsl/ZX0mbegmt47SwB3SrqO9Jk3Bq6R9HsA2zsWjP0PUi/AP+XYO5AuNL6cY/+oYOwfkj7nOXn7Y8B3CsbD9neB70r6ru2i/7e90Fj8PlIvA5EGYlQ1FP70Lrtt+9MFY55t++OSbqP7kp9rlYqd4y/p3FOpapIWBNYg/T/fBbxs+6UK4q5HGkC2JunKeDSwk+1bK4i9DLAB6TNPcAUNp5K26e+47WIj2JVGFvcX+7BSsXP8twNbkX7elzr3FCsYbw3bd+XfsdnYvmnIYjU5ESjNi/KC7VeU5kRZndTlrJFdGiUtY/sRSV0XqXaXXgdDHP9eUmPeKS7cU6iP+CL9oe4GfMj2mwrG2gB40PY/laaY+BzwUVLD7SG2iyy5WuWXQx/xPw+cabuKu57O2Gvarqoaqq8yvJHU6QQAF+yBKOkE2/vku75Otr31kMVqeCKYSLplXoK0dObNwJOFr8rPtL1rfn6E7YPajp1v+32lYucYI0l3PkUneusj9ghStdBnSXM6nQmc5iEa/dhP3I1IX/4fAV5PahcZb/vJgjFvIvWQekJpUNlvSAPb1gHeanunQnEr+3LoI/7/kKpFJpBWHbykZLyO2FeTer+dCvy6yrvP3Mb1Q9Ko/UdJsxbcafvtVZWhqCpavet6kFvbSTNifiM/n1Q45s2d8bsdK1yG8cASNf/styTV6U4nNVZvWCDGd0jdGC8ltf+8Abi/os93S9vznwHfatsu+juWYyw0mH2FYo8APgCck3/+hwNjKoq9Oql9ZAqpK/h7qvr/zr9fN+ftrYATKoq9L7Bk2/ZSwBeGMkbTew2NyLfwuzFzzpuRhWP2d4tV1e3X88BtuX/7T1qP0kElLSlpX0kTgG8AB5Cu0A+mzGR/+5DGCxwH/MppEFdVP+ORmjnr6DakXlotVXTC6DaXUlXzK70C/D0/XiH1HPqTpO9WEPtvpHFBXwfeBRwt6a48orukl/Lv1whJI2z/lfIzGbfs7ba7H6c73b2HMkDTew19GTgM+Ivt2yWtDFxVOObrJL2DdNW0cH6u/Fi4cOyWblMSV/EFeQPpKu3jnrU94inxmZkAAB3ISURBVDpJJQZ2LU3qCLAr8ONcXbKwpPlcvh3oTOAKSY8Bz5F/r3JbVLH68zyydlnS51yXWWeYLd49WtIXgN1Jg/ZOBg62/UKuFpxCwZ5LktYiTbr2AeBiUjvQTUpzO10L/L5UbOApSYuSpoo5Q9KjpDl/qjBCkpxvB0oMEG10G0EdJPWbaGy/s7/jQ1SGcbaPHmjfEMY7wvZB+UrplRIxBlGGhYAPkpLC5qReHbsVjrkx6Wr4IufFSiStTlospUijraTPkL6Ix5Km0GiZDpxqu8iXYSu5SjoCOMn2fV3OKdqYK+lK0kjxc2w/13HsU7a79dQbqtiLkBL+COATpHbHM1zNVCLfJ62vcTzpgu7zpI4KXxmyGE1OBEoTRX2FNDNle0v/e/p8UQNIusn2eh37is011C1enSQtDnzEdukxBLWR9FHbv6swXu3/x5L2t/3jjn3FLnAGKMtIYBfbxWczzndbnyNVQbYmvDvJHXNczVWMhieCC4A/kOqq9yXN4PdP21WMsq2cpF1J7SGbM2sV2OKkxVuK9CSSdAupcbjrAiUu1JWy10n6ALNf5BxeKFbxSQsHUYZKL3Dy+y9O+u5YltQJ4+K8/Z+kTgE7lIpdpaa3EYy2/XNJ+9q+VNJlpPnTm+oa4BFgFKmrW8t00tw0pazBrAvhtDOwcsHYPUnS8aQ2ga1IUxPvRBrDUcro1gjeblxwVG/bBc5KSiv/tSwGlK6aOZ204NC1pJ5p/0mqn9/BaUnUYqocINr0RNAaWfpPSe8lrRK2fI3lKSo30D4gaVvgOaeBdKuTvqhLznt0R91Xiz1oU9trSbrV9mGSfkjZxtKRwKL0cddXWF0XOJBWGnwHgKSTSGsCrGB7ev8vGxLj8r8fLB2o6YngCElLAF8l9fVenJTRi8s9HDo9TWrkKd2geiXwTqVJsi4lNSruTGrkahylyQS/QvoD3Vtpucq3uKL5+WvSaiz9d+418zhll2F9pFS100BaFzjAJpp1PYK7K+gd9uo0JbZflnR/RUkA24/kf4vOCAANTwSeOcHbrcxcKawqJ5P6GU8mXUW9lTQXzRKS9nHBOVlIbT//lrQn8FPb35N0c8F4lTfWdTiFVDW1Sd5+iDQNd5MTwblK8+N/n7SYu0lVRKXUcScwawHS7/OhpDEbAn4q6XDbJSeSXFsz1xERqdvutPzcthcvGDsFTWMkjgTeyMyu6EMbu9RouHnhAawKXMjMueLXAg6sKPavgbXatt9Bmvl0VSoY3Uz6UrwOeHveV3yO/Br/nye2PnfbvlvqKEtNn39BCo8kB14/D3zO2tYjqPlzTyFNW1IsRtNHFp9EGlDWqoq5DfhkRbHf6rYZKJ3WJljP9pQKYu9PGtjzB9uT80C6JjeSv6g0wWBrwM0qtE393UR5BPeSALZfIA06+kKpeJ43en7VuR5Bnf7loVqJrA+NrhoirU98jfKqjbYtqfjUxNm9Skv4/SZv7wxMUZouuWi9pu0rgCvatu8D9isZs2aHAhcAyyutAbEZadBVk+1t+2etDdtPStobOLbGMhXR1lup63oEtRWsOhMlncXsa5sMWeeApieCxyWtxMwrxQ8DVS12/WnSbJTfINXpXU26Sp9BGhgy5CT92Pb+6r6YO7ZLrhLWGlV7HPAm22vmBvPtbf93ybi2L1aaDXRj0s96nO3HSsacBxSfdqAvStOcr2b7knwnNp/LNqAulv+9Nz9ahnSVrnnY4sC/SdOptJgh7CXW9AFlqwInkL4gppK6oO1q+/5aC1aIpPVt3yjpXd2O5zuFkvGvIPXK+rlzd1JJt9tes3DczUjtLs9K+iSwHnC0K+htUZcqph3oI+7epMn+Xm97ldxD63jbRS5uQjUanQhachdSudr5yzcmVVmsSNudl+3VK4o/OsebWkW8HPMG2xu0j/aUNMl20VkaJd0KrE3qDPBLUqP8jra7JsQmqGLagT7iTiJ135zQ9n98m3Nf+8Kx/0r3O92iazDULf8t701K/O3fJZ8dqhiNrBqS1LU+vK2toPiUzKQujV8jdWusZDFzpQ94KGn9BZGqD2aQupBW0Qf8sdxQ26qu2Il0F1bajNz+swPwE9sn58nZGsv1rUv9gu0XW39LSlNxV3U1+dW25wuRVoRr5GqDHf5EmjLmEgp9lzQyEZDWja3bNNt/rjjm/qSG0g1a1V+5x9Bxkg6wfVTh+PuSquLWkPQP4H6q6aU1XdKBOdYWub58/griVq7KaQf6cIWkg0j96d8NfAGo5Pfc9o0du/43V0c23etsf71kgJ6oGqqDZi7S8XtmbekvNiQ+Dxp7d2dDab61vMgVTQOhNGXviMINiO3xlibNRXOD7askrQBsafuXVcSvkqQ3235Y9a1LPQLYk9RwKdI4nZNcwReJpNe3bY4A1ifdAb6ldOw6Sfpv4Brb5xWL0eREkBuLfwYsbXvt3IvlA7aLr6Sk7usS2PYWBWP22TBbUaPtOFKV2HTSvPHrkZYIrXwh+6ZqzcAp6XTbn6q5LK8Hlit5cdMR737SXZBIVUL3A4fbvrqK+FWTNJ2Zn3cR0gXlSxQYWdzUqqGWk4CDSMkA0oCyM0lrnhblChag6eLF13hsqHzW9tF5gr83klaTOoXUkFlMbpj/KWkajwVIE6Q9Y3uJknFrskBu/9hUXZZnHMq+5d1IuhzYnvTdMQmYKukK233OTDpUbJecS2meY3uxgc8aGk1PBJUPKJO0q+0z+2qwLtxQ3T4vyizFom3O+oJa89G8HzjF9i1q/fDLOgbYhTS/0FjSGI7VKohbh8+TJg9cEvhQx7Eh7VvehyVsT5O0F+n/+NDca6sYpXXHH7T9z7z9aVJD8QPAt+aRUc/FSLq0s3tut31zo+mJoI4BZUvlfytvsLY9suqYHW6UdBFpFswDJS3GzOk9irI9RdLI3H3yFEmVLORetVwNcrWkibZPrqEI80laBvg4cHBFMX8ObAsgaQvgf0iDNdchdU7YqaJyVEpp+dVFgFFKMwm3r0/95qGM1fRE8EXSLKBrSHqAPKCsZEDbrSH+P+wct9BXA1+D7En647zPafbTN5Cqh0r7t6QFgEmSvkf6f16kgriVk7S17cuAJ+uoGgIOJzUQX237htwr7Z7CMUe2XfXvDJzgtEzn7/K4hqb6HKkn4JtJM8y2TGNmdfeQaHRjcUtNA8quAt5n+5m8/Rbgd6UbbOuWr1xWY9blE68sHHNF4F+k9oEDSAuLH1vRBH+VknRYro45pcthD+Ugo3mFpNuBdWzPkHQXsE/rd6qKThB1k/Ql2z8tGqOpiSDXTS/R+vKXND+pn/lXqvjFkbQ98GVSffnqwBnAp2zf1O8Lh7FcbzwOWI7UkLgxcG0VIz/znDcr2L67dKxeVsUo1y4xDyb9HT0GrECaxde5V+BptjcrFbtOkr5m+3v5+cds/7bt2BG2DxqqWI2chlrSx0jrjP5N0mW5XnEKsCNQyRWT06I4PyX1mDkd+GiTk0A2DtgAeMD2VsC6pDmeipL0IVLiuSBvr6NZ17ZtHEnjJC2u5CRJN0l6z8CvnGt/It1xXQL8pe1RjO3vkFagOxXYvG3MwghSW0FT7dL2/MCOY9sNZaCmthEcCmxk++7c4+Bq4JPtGbUUSUcxc8SnSL07pgD7SKKKbnY1et7285KQtKDtu3KVWGnfIs1/czmA7UmSxlQQt061dNWlglGu3di+rsu+v1Vdjoqpj+fdtudKUxPBi60qgtyg9fcqkkB2+wDbTfaQ0mIpfwQulvQk8HAFcWfYfrqanqrzjLq66p4r6f0lR7mGV7mP592250oj2wgkPQR8r23X19q3q5h0Lnf9ejFPDtYamr+A7edLx54XKE2FvQRwge2ig9kknQxcSlr74aOkRXjmt/35knHrlBuLlyV11V2bNIjuctvrF447ndQj68X8qGzt3l4j6WXgWfJayaQ1CcjbC9kesvm0mpoIvt3fcdv/VUEZrgXe05pvJ/epv9D2pqVj10nS5qRFS07JDYuLuvD6D5JeR+rT3j7/zbebnHTzhUWrq+5TVU/3UBdVvyhOT2hkIpgXqMs8/N32NYmkQ0kje99ie3VJbwZ+29ReHXVSTYvx5OqnTwAr2f62pOWBZWwXXzJSsShOMU1tI5gX/FvS2rZvgdSTBWjsFWr2EVJPoZsAnGbJLDZfivpYkrPFhZfmrNlxpClF1iZVfZ5MWpSn9GI8x5JGi28NfBt4hjS4aYPCcSFNc74hMAHA9j2S3lhB3MaLRFDOAcAf8ohmSP2fi45qnge8mPt3t6b0KD269weF339e1r4Yz9GubjGejZxmP70ZwPaTeVR3FepcFKfRGpsIlBYn+XAeil452xMkvZU0I6aAyaUbTecBZ0v6ObBkvo3/LGk66iLctgZzDw4oq2sxnpdyrFayH01F80lR46I4TdfoNgJJV7me6aBb8dcA3sas0y38uq7yVCH/gb7aaGv74gpifoh0d7CA7ZVyNdzhTa4aUk2L8Uj6BGm+n/WA00gTvn2zojE6tS2K03RNTwTfJNVhnkXqhgWA7W5TNZeI/R5gDdIv7HtJE3XNNlFYmDuSbiTVWV/umQuq3+ryyzb2DEkreebyp2sA25C+jC+1fWcN5emJXlJVaWzVUPa5/O9X2vaZVF9f2s6k7n032f6U0tS9P68gbuU0cyWl2Q5RTR/znhtQpuoX4zkHWF8z58G/q1CcPqnGRXGartGJwPbyNYZ/zvbLkmbknjP/BFausTzFuMKVlPpwu6TdgJG5S+F+QCPXI2hT9WI8I3L34NUlzfbFa/tHBWO3VL4oTq9o5KRz7SStIWlHSbu1HhWFvjlPt/ALYCJwPbPOKd5IkjaXtEd+PkppYaDSvgS8nbSm669J87XvX0HcWuVptkfaftn2KcCWBcPtQur+PB+wWJdHFdoXxTm3opg9odF3BH3V05O+LErGFWkJvaeAn0m6EFi86bOPtg8oI02AtgDwK6DogDLb/yaNLH51xaw8ArXo4KqaVb0Yz3a2j8yTCR5eME5/6lgUpyc0vbH4NmbW06/dqqevojeJpBtLz/syr1FaLWpd0s+7kkZbSZuQ5ty50vajktYizTn0zpqrBovKie5RUpfR4ovxtEbFS7rJ9nolYoT6NPqOgHrr6a+XtF7T7wI6VDqgTNL3gQ+SGg6/LulcUt/yI6ho3Ym6tE0l8RxwWAUh75T0d2B0R718q0NA8R5aqmFRnF7R9ETQWU8/jcL19JLmsz0D2BzYW9K9zJxB0A2/muo2oOykgvE+AKyb10BYijTl9Vq2G1tdkO9y+5tWo8gXsu1d89iFC0k9d+rwJ+Aq0qI4L9dUhkZqdNVQO6Vl7YrX07dunSWt0u247XtLxq9blQPKOqvfmj6pH7xaJdSnCiadWwhYlZSM7q1yhtde+P+tS+MTgaRdgFVsfyfPlPhG2zcWjHdzq3681+WpCHaxfUah938KuLJt1xbt200cWZwvaN5k+3879r8TeLjUhUae1+cI0kpo/0fqcbgcqVPAwbZfKhG3owz/DVzjWBRnyDU6EUg6htSYtoXtt+bRiBfaLjZTotKiOH32qa6ov3WlJC1OmhlyWWA8cHHe/k/SVMk7FIrb70yb7XMRNUVuBzmoc0StpLHAobY/VCjuUaRuogd45hobi5Om9njO9rgScTvKEIviFNL0RNCqpnn1Kl3SLbbXLhjzEdIUwV2HudquomGvUpL+BDwJXEuaemApUtfRcbYn1Vm2ppF0u+01+zh2m+13FIp7D7B657w++a7vLtslB7OFwpreWPxSnqiq1YvlDZSfKfGRGvtZ12Xl1heQpJOAx0gzgcbKUUNvoX6OLVwwrrtN7pZ75VVyNZnH59SyKE7TNX1k8c+A35G6vB1GGkx2ZOGYvTPhzUyv1g/bfhm4P5JAMTfkHlmzkLQnUKztC7hD0qe7xP0k1c07dCywCWnWVZi5KE6YS42sGpJ0HvAF23+X9HZgW9IX9CW2by8c+/W2nygZY16jmYtsw6wLbVdahytpEdvPDnzm8CXpTcAfSHXkrS/+saSquI/Y/mehuMsCvyeNW7iRdJe9Aen/+iO2/1EibkcZKq/q7RVNrRo6FbhI0mnA92xPripwryUBANsj64wvaVPSeIVFgRWUlm/8nO0v1FmuEmz/C9hU0lZAq63gL7YvKxz3H8BGkrYmzesk4Hzbl5aM26HORXEarZF3BPDqqNZDgO2A02n7hWliz51eJmkCaYGU8W1Xin02qobhSTUuitN0Tb0jgFRv/SywIKnbW1w5NJjtBzXregQx8rQhlBfFsX2G0iJErUVxPuwaFsVpokYmAknbkfryjwfWy7NThuZ6MFcPOc/IuR8QXxDNUfuiOE3XyKohSVcBn6+ybSDUR9Io4Ghmdgq4iDSG4fFaC1ZYnm5iNduXSFoYmK+JvbUk3Qz8EdgLOKrzeFT1zr1G3hG4xgXrQ/VsP0bqX94zchfSfYDXA6uQpns4nlRt0jS7AB9m5qI4YYg1MhGE3iLpJ112Pw1MtP2nqstTkX2BDYEJALbvkfTGeotUzLywKE6jNX1AWegNC5EWILonP9YiXSnvKenHdRasoBdsv9jayJPCNa+eN9kj//vhWkvRYHFHEJpgVWDrvA4Eko4jtRO8G7itzoIVdIWkg4CF89TfXwD+XHOZSql9UZyma2Rjcegtku4GNrT9dN5eAphge42mTgue59Dak7a1H4CTus0H1AT9LYpTeg2GXhB3BKEJvkdaxP1y0pfiFsAReVDhJXUWrBTbrwAnAifm6dWXa2oSALD9T0kbUdOiOE0XdwShESQtQ2o8FXC97YdrLlJROeltT7qYmwRMBa6w/eU6y1XCvLAoTtNFY3FoiueBR4AngFUlbVFzeUpbwvY0YEfglLxk57Y1l6mU75Ma/1e2vX6u6lsFWJK0ME6YS1E1FIY9SXsB40hXiZOAjUmL5GxdZ7kKmy/fBX0cOLjuwhT2QToWxbE9TdJ/kEYZF18drenijiA0wTjSlMgP2N4KWJdUVdJkh5MaT6fYvkHSyqSus03U56I4NLfLbKUiEYQmeL7VcJgHHd0FvKXmMhVl+7e212pNtW37PtsfrbtchcwLi+I0WlQNhSZ4SNKSpPloLpb0JND0xuLRwN7AGNr+jm1/tq4yFbQv8HtJn6XLojh1FqwpotdQaBRJ7wKWAC5oH3nbNJKuAa4ifTG+OuW27d/VVqjCOhbFmVzxojiNFokgDGt5YNWtvbYIjaRJttepuxyhGaKNIAxreWDVLZJWqLssFTtX0vvrLkRohrgjCMOepMtIdcbXk1alA8D2bNMRNIWk6cAipEXsX2TmvDuL11qwMCxFIgjDXm4XmI3tK6ouSwjDUSSC0Agdq3W9DhjZxNW6WpQWaP4EsJLtb0taHljG9vU1Fy0MQ9FGEIa9vFrXOcDP865lSV1Jm+xYYBNgt7z9DPCz+ooThrNIBKEJ9gU2A6ZBWq0LaOpqXS0b2d6XNMcStp8EFqi3SGG4ikQQmqCXVutqeUnSSPLnzAPMXqm3SGG4ikQQmqBzta7f0tzVulp+AvwBeKOk7wBXk6ZqDmGORWNxGPZ6abUuSSvZvj8/XwPYhvSZL7V9Z62FC8NWJIIw7En6CHCe7RfqLktpkm60vb6kS21vU3d5QjPEpHOhCbYHfizpSuA3wIWthewbaISkQ4HVJc22GpntH9VQpjDMRRtBGPZs70Fay/a3pO6U90o6qd5SFbMLqafQfMBiXR4hzLG4IwiNYPslSeeTetEsDOwA7FVvqYrYzvaRed2Fw+suTGiGuCMIw56k7SSdCkwBdgJOApaptVDl7JH//XCtpQiNEncEoQl2J7UNfK4HGozvlPR3YLSkW9v2tyadW6ueYoXhLHoNhcaRtBmwWx552ziSliZ1kZ1tdlXbD1RfojDcxR1BaARJ65Aaij8O3A/8vt4SlWP7n5I2IjWQG7i3tWZzCK9FJIIwbElandSLZlfgceAs0l3uVrUWrKA8fcYRpLaC/yO18y0n6RTgYNsv1Vm+MDxF1VAYtiS9Qlq3d0/bU/K++2yvXG/JypF0FKmb6AGtabYlLQ78AHjO9rg6yxeGp0gEYdjKI4p3ATYFLiA1GJ9ke6VaC1aQpHuA1Tunz8gT0N1le7V6ShaGs+g+GoYt23+wvTOwBnA5cADwJknHSXpPrYUrx93mULL9Ms2fcTUUEokgDHu2n7V9hu0PAssBk4Bv1FysUu6Q9OnOnZI+CdxVQ3lCA0TVUAjDiKRlST2ingNuJN0FbEAaTf0R2/+osXhhmIpEEMIwJGlr4O2kgWSTbV9ac5HCMBaJIIQQely0EYQQQo+LRBBCCD0uEkGYY5KWlvQbSfdKukPSeZJWlzRG0u1DGOdwSdvm5++UNFnSJEnLSjrnNb7n7pLe3LZ9kqS3DWGZ/yTp2o5935L01SF6/ze3PrukdSS9f6jjSHpv/jlPkvSMpLvz819KGivpJ/m8LSVtOtTxQ/ViiokwRySJtGj6abZ3yfvWAd4EPDiUsWwf0rb5CeAHtk/J2zu9xrfdHbgdeDjHGLI1CyQtCawHPNO+tvAQvv98th9m5mdfBxgLnDeUcWxfSJrUDkmXA1+1PbHtlNbzLYFngGuGMn6oXtwRhDm1FfCS7eNbO2xPsn1V+0n57uAqSTflx6Z5/zKSrsxXmLfnK/2Rkk7N27dJOiCfe6qknSTtRZpM7hBJZ7TfeeTX/iC/7lZJX8r7D5F0Q37PE5TsRPriPCPHX1jS5ZLG5tfsmt/ndklHtn2WZyR9R9Itkq6T9KY+fjYfBf5MGuG8S7cTJG2Qy3mtpO+3fY6FJJ2S498saau8f3dJv5X0Z+Ci1meXtABwOLBz/iw75xBvy5/pPkn7tf1f3JXvfm7PP8NtJf2vpHskbTio/3levQs4V9IY4PPAATn+OzvOW0XSBZJuzL8Haww2RqheJIIwp9Yk9V8fyKPAu22vB+wM/CTv3420pvA6wNqkwV/rAMvaXtP2O4BT2t/I9knAeOA/bX+iI84+wErAunku/jPy/mNsb2B7TVIf+w/aPod0NfsJ2+vYfq71Jrm66Ehg61yeDSS1Fn9ZBLjO9trAlcDefXzmXYEz82PXPs45Bfi87U2Al9v275s/6zvya0+TtFA+tgnwGdtbt/1MXgQOAc7Kn+WsfGgN4L3AhsChkubP+1cFjgbWyufsBmwOfBU4qI+y9sn234HjgaNy/Ks6TjkB+JLt9XOMY+c0RqhOJIJQyvzAiZJuI60l3KqHvwHYQ9K3gHfkidPuA1aW9FNJ2wHT5iDOtsDxrcXqbT+R928laUKO3+pz358NgMttT83vdQawRT72InBufn4jMKbzxfkuYVXgatt/A2ZIWrPjnCWBxWy3qlJ+3XZ4c+D0/BnuAh4AVs/HLm77XAP5i+0XbD9GSsatu5f7bd9m+xVgMnBpnqritm6fZ25IWpQ0/9NvJU0Cfk5zV4xrhEgEYU5NBtYfxHkHAP8iXfWPBRYAsH0l6Qv2H8Dpkj5t+8l83uWkK+M5WXhedMyxk6+kjwV2ylfYJwILdXlt5/v05aW2+X1epnvb2s7AUsD9SiuIjWH26qH+YvR37Nl+jnVqX6Gtvazt+19p236FoW8rHAE8le8UWo+3DnGMMIQiEYQ5dRmwoKRXq0dyvfe7Os5bAngkX4F+ChiZz10ReNT2icDJwHqSRgEjbP8O+C9Sg+tgXQR8XmmefiS9nplf+o/lq9P2huXppGmcO00A3iVplNJMnrsCV8xBOXYlLSw/xvYYUrKcJRHkhDdd0sZ5V/vxK0kN4q11FlYA7h4gZl+fpSpd49ueRkqIH4PUwUDS2lUXLgxeJIIwR/KV8UeAdyt1H50MfIvcC6fNscBnJF1HquJoXdVuCUySdDOpcfVoYFng8lyNcCpw4BwU6STSAi23SrqFtETlU6S7gNuAP5Kqo1pOBY5vNRa3fa5Hcty/ArcAN9n+02AKkBtOVwCua3u/+4FpSiuJtdsTOEGpi6mAp/P+Y4GRuSrrLGD3Qay//FdS43B7Y3GV/gx8pFtjMSmp7Zn/TyYDO1ReujBoMcVECBWStKjtZ/LzbwDLxGIyoW4xjiCEan1A0oGkv70HSOMaQqhV3BGEEEKPizaCEELocZEIQgihx0UiCCGEHheJIIQQelwkghBC6HGRCEIIocf9P67XEj+edOTWAAAAAElFTkSuQmCC\n",
      "text/plain": [
       "<Figure size 432x288 with 1 Axes>"
      ]
     },
     "metadata": {
      "needs_background": "light"
     },
     "output_type": "display_data"
    }
   ],
   "source": [
    "import seaborn as sns\n",
    "import matplotlib.pyplot as plt\n",
    "sns.barplot(x=features['Feature Name'], y=features['p-Value'], palette = 'pastel')\n",
    "plt.title('Model Summary')\n",
    "plt.xlabel('Classification Algorithm Title')\n",
    "plt.ylabel('Mean CV Score')\n",
    "plt.xticks(rotation='vertical');"
   ]
  },
  {
   "cell_type": "code",
   "execution_count": null,
   "metadata": {},
   "outputs": [],
   "source": []
  }
 ],
 "metadata": {
  "kernelspec": {
   "display_name": "Python 3",
   "language": "python",
   "name": "python3"
  },
  "language_info": {
   "codemirror_mode": {
    "name": "ipython",
    "version": 3
   },
   "file_extension": ".py",
   "mimetype": "text/x-python",
   "name": "python",
   "nbconvert_exporter": "python",
   "pygments_lexer": "ipython3",
   "version": "3.7.4"
  }
 },
 "nbformat": 4,
 "nbformat_minor": 2
}
